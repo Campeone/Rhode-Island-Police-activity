{
 "cells": [
  {
   "cell_type": "code",
   "execution_count": 1,
   "id": "6708f422",
   "metadata": {},
   "outputs": [],
   "source": [
    "# import the necessary libraries \n",
    "import numpy as np \n",
    "import pandas as pd \n",
    "import matplotlib.pyplot as plt \n",
    "import seaborn as sns \n",
    "%matplotlib inline"
   ]
  },
  {
   "cell_type": "code",
   "execution_count": 2,
   "id": "3904221a",
   "metadata": {},
   "outputs": [],
   "source": [
    "# load the dataset \n",
    "df = pd.read_csv('Desktop/police.csv/police.csv')"
   ]
  },
  {
   "cell_type": "code",
   "execution_count": 3,
   "id": "ee32fabb",
   "metadata": {},
   "outputs": [
    {
     "data": {
      "text/html": [
       "<div>\n",
       "<style scoped>\n",
       "    .dataframe tbody tr th:only-of-type {\n",
       "        vertical-align: middle;\n",
       "    }\n",
       "\n",
       "    .dataframe tbody tr th {\n",
       "        vertical-align: top;\n",
       "    }\n",
       "\n",
       "    .dataframe thead th {\n",
       "        text-align: right;\n",
       "    }\n",
       "</style>\n",
       "<table border=\"1\" class=\"dataframe\">\n",
       "  <thead>\n",
       "    <tr style=\"text-align: right;\">\n",
       "      <th></th>\n",
       "      <th>state</th>\n",
       "      <th>stop_date</th>\n",
       "      <th>stop_time</th>\n",
       "      <th>county_name</th>\n",
       "      <th>driver_gender</th>\n",
       "      <th>driver_race</th>\n",
       "      <th>violation_raw</th>\n",
       "      <th>violation</th>\n",
       "      <th>search_conducted</th>\n",
       "      <th>search_type</th>\n",
       "      <th>stop_outcome</th>\n",
       "      <th>is_arrested</th>\n",
       "      <th>stop_duration</th>\n",
       "      <th>drugs_related_stop</th>\n",
       "      <th>district</th>\n",
       "    </tr>\n",
       "  </thead>\n",
       "  <tbody>\n",
       "    <tr>\n",
       "      <th>0</th>\n",
       "      <td>RI</td>\n",
       "      <td>2005-01-04</td>\n",
       "      <td>12:55</td>\n",
       "      <td>NaN</td>\n",
       "      <td>M</td>\n",
       "      <td>White</td>\n",
       "      <td>Equipment/Inspection Violation</td>\n",
       "      <td>Equipment</td>\n",
       "      <td>False</td>\n",
       "      <td>NaN</td>\n",
       "      <td>Citation</td>\n",
       "      <td>False</td>\n",
       "      <td>0-15 Min</td>\n",
       "      <td>False</td>\n",
       "      <td>Zone X4</td>\n",
       "    </tr>\n",
       "    <tr>\n",
       "      <th>1</th>\n",
       "      <td>RI</td>\n",
       "      <td>2005-01-23</td>\n",
       "      <td>23:15</td>\n",
       "      <td>NaN</td>\n",
       "      <td>M</td>\n",
       "      <td>White</td>\n",
       "      <td>Speeding</td>\n",
       "      <td>Speeding</td>\n",
       "      <td>False</td>\n",
       "      <td>NaN</td>\n",
       "      <td>Citation</td>\n",
       "      <td>False</td>\n",
       "      <td>0-15 Min</td>\n",
       "      <td>False</td>\n",
       "      <td>Zone K3</td>\n",
       "    </tr>\n",
       "    <tr>\n",
       "      <th>2</th>\n",
       "      <td>RI</td>\n",
       "      <td>2005-02-17</td>\n",
       "      <td>04:15</td>\n",
       "      <td>NaN</td>\n",
       "      <td>M</td>\n",
       "      <td>White</td>\n",
       "      <td>Speeding</td>\n",
       "      <td>Speeding</td>\n",
       "      <td>False</td>\n",
       "      <td>NaN</td>\n",
       "      <td>Citation</td>\n",
       "      <td>False</td>\n",
       "      <td>0-15 Min</td>\n",
       "      <td>False</td>\n",
       "      <td>Zone X4</td>\n",
       "    </tr>\n",
       "    <tr>\n",
       "      <th>3</th>\n",
       "      <td>RI</td>\n",
       "      <td>2005-02-20</td>\n",
       "      <td>17:15</td>\n",
       "      <td>NaN</td>\n",
       "      <td>M</td>\n",
       "      <td>White</td>\n",
       "      <td>Call for Service</td>\n",
       "      <td>Other</td>\n",
       "      <td>False</td>\n",
       "      <td>NaN</td>\n",
       "      <td>Arrest Driver</td>\n",
       "      <td>True</td>\n",
       "      <td>16-30 Min</td>\n",
       "      <td>False</td>\n",
       "      <td>Zone X1</td>\n",
       "    </tr>\n",
       "    <tr>\n",
       "      <th>4</th>\n",
       "      <td>RI</td>\n",
       "      <td>2005-02-24</td>\n",
       "      <td>01:20</td>\n",
       "      <td>NaN</td>\n",
       "      <td>F</td>\n",
       "      <td>White</td>\n",
       "      <td>Speeding</td>\n",
       "      <td>Speeding</td>\n",
       "      <td>False</td>\n",
       "      <td>NaN</td>\n",
       "      <td>Citation</td>\n",
       "      <td>False</td>\n",
       "      <td>0-15 Min</td>\n",
       "      <td>False</td>\n",
       "      <td>Zone X3</td>\n",
       "    </tr>\n",
       "  </tbody>\n",
       "</table>\n",
       "</div>"
      ],
      "text/plain": [
       "  state   stop_date stop_time  county_name driver_gender driver_race  \\\n",
       "0    RI  2005-01-04     12:55          NaN             M       White   \n",
       "1    RI  2005-01-23     23:15          NaN             M       White   \n",
       "2    RI  2005-02-17     04:15          NaN             M       White   \n",
       "3    RI  2005-02-20     17:15          NaN             M       White   \n",
       "4    RI  2005-02-24     01:20          NaN             F       White   \n",
       "\n",
       "                    violation_raw  violation  search_conducted search_type  \\\n",
       "0  Equipment/Inspection Violation  Equipment             False         NaN   \n",
       "1                        Speeding   Speeding             False         NaN   \n",
       "2                        Speeding   Speeding             False         NaN   \n",
       "3                Call for Service      Other             False         NaN   \n",
       "4                        Speeding   Speeding             False         NaN   \n",
       "\n",
       "    stop_outcome is_arrested stop_duration  drugs_related_stop district  \n",
       "0       Citation       False      0-15 Min               False  Zone X4  \n",
       "1       Citation       False      0-15 Min               False  Zone K3  \n",
       "2       Citation       False      0-15 Min               False  Zone X4  \n",
       "3  Arrest Driver        True     16-30 Min               False  Zone X1  \n",
       "4       Citation       False      0-15 Min               False  Zone X3  "
      ]
     },
     "execution_count": 3,
     "metadata": {},
     "output_type": "execute_result"
    }
   ],
   "source": [
    "df.head()"
   ]
  },
  {
   "cell_type": "code",
   "execution_count": 4,
   "id": "c1cf03fe",
   "metadata": {},
   "outputs": [
    {
     "data": {
      "text/plain": [
       "state                     0\n",
       "stop_date                 0\n",
       "stop_time                 0\n",
       "county_name           91741\n",
       "driver_gender          5205\n",
       "driver_race            5202\n",
       "violation_raw          5202\n",
       "violation              5202\n",
       "search_conducted          0\n",
       "search_type           88434\n",
       "stop_outcome           5202\n",
       "is_arrested            5202\n",
       "stop_duration          5202\n",
       "drugs_related_stop        0\n",
       "district                  0\n",
       "dtype: int64"
      ]
     },
     "execution_count": 4,
     "metadata": {},
     "output_type": "execute_result"
    }
   ],
   "source": [
    "# check for null values \n",
    "df.isnull().sum()"
   ]
  },
  {
   "cell_type": "code",
   "execution_count": 5,
   "id": "cc8ac2a8",
   "metadata": {},
   "outputs": [],
   "source": [
    "# drop county_name and state \n",
    "df.drop(['state', 'county_name'], axis = 'columns', inplace = True)"
   ]
  },
  {
   "cell_type": "markdown",
   "id": "d3373737",
   "metadata": {},
   "source": [
    "### Changing the data types for the necessary columns"
   ]
  },
  {
   "cell_type": "code",
   "execution_count": 6,
   "id": "3dfcefd9",
   "metadata": {},
   "outputs": [
    {
     "data": {
      "text/plain": [
       "stop_date             object\n",
       "stop_time             object\n",
       "driver_gender         object\n",
       "driver_race           object\n",
       "violation_raw         object\n",
       "violation             object\n",
       "search_conducted        bool\n",
       "search_type           object\n",
       "stop_outcome          object\n",
       "is_arrested           object\n",
       "stop_duration         object\n",
       "drugs_related_stop      bool\n",
       "district              object\n",
       "dtype: object"
      ]
     },
     "execution_count": 6,
     "metadata": {},
     "output_type": "execute_result"
    }
   ],
   "source": [
    "# Check the datatypes \n",
    "df.dtypes"
   ]
  },
  {
   "cell_type": "code",
   "execution_count": 7,
   "id": "0ca85da9",
   "metadata": {},
   "outputs": [],
   "source": [
    "# change some of the columns to workable datatypes \n",
    "df['driver_gender'] = df['driver_gender'].astype('category')\n",
    "df['driver_race'] = df['driver_race'].astype('category') \n",
    "df['is_arrested'] = df['is_arrested'].astype('bool') \n",
    "df['district'] = df['district'].astype('category')"
   ]
  },
  {
   "cell_type": "code",
   "execution_count": 8,
   "id": "79daab8f",
   "metadata": {},
   "outputs": [
    {
     "data": {
      "text/plain": [
       "stop_date               object\n",
       "stop_time               object\n",
       "driver_gender         category\n",
       "driver_race           category\n",
       "violation_raw           object\n",
       "violation               object\n",
       "search_conducted          bool\n",
       "search_type             object\n",
       "stop_outcome            object\n",
       "is_arrested               bool\n",
       "stop_duration           object\n",
       "drugs_related_stop        bool\n",
       "district              category\n",
       "dtype: object"
      ]
     },
     "execution_count": 8,
     "metadata": {},
     "output_type": "execute_result"
    }
   ],
   "source": [
    "df.dtypes"
   ]
  },
  {
   "cell_type": "code",
   "execution_count": 9,
   "id": "42927b8b",
   "metadata": {},
   "outputs": [],
   "source": [
    "# concatenate stop_date and stop_time \n",
    "df['stop_datetime'] = df.stop_date.str.cat(df.stop_time, sep =' ') "
   ]
  },
  {
   "cell_type": "code",
   "execution_count": 10,
   "id": "b8eacd06",
   "metadata": {},
   "outputs": [],
   "source": [
    "# change stop_datetime to datetime datatype \n",
    "df['stop_datetime'] = pd.to_datetime(df['stop_datetime'])"
   ]
  },
  {
   "cell_type": "code",
   "execution_count": 11,
   "id": "12367206",
   "metadata": {},
   "outputs": [
    {
     "data": {
      "text/plain": [
       "stop_date                     object\n",
       "stop_time                     object\n",
       "driver_gender               category\n",
       "driver_race                 category\n",
       "violation_raw                 object\n",
       "violation                     object\n",
       "search_conducted                bool\n",
       "search_type                   object\n",
       "stop_outcome                  object\n",
       "is_arrested                     bool\n",
       "stop_duration                 object\n",
       "drugs_related_stop              bool\n",
       "district                    category\n",
       "stop_datetime         datetime64[ns]\n",
       "dtype: object"
      ]
     },
     "execution_count": 11,
     "metadata": {},
     "output_type": "execute_result"
    }
   ],
   "source": [
    "df.dtypes"
   ]
  },
  {
   "cell_type": "code",
   "execution_count": 12,
   "id": "9a25caeb",
   "metadata": {},
   "outputs": [],
   "source": [
    "# set stop_datetime as index \n",
    "df.set_index('stop_datetime', inplace = True)"
   ]
  },
  {
   "cell_type": "code",
   "execution_count": 13,
   "id": "b9c7c946",
   "metadata": {},
   "outputs": [
    {
     "data": {
      "text/html": [
       "<div>\n",
       "<style scoped>\n",
       "    .dataframe tbody tr th:only-of-type {\n",
       "        vertical-align: middle;\n",
       "    }\n",
       "\n",
       "    .dataframe tbody tr th {\n",
       "        vertical-align: top;\n",
       "    }\n",
       "\n",
       "    .dataframe thead th {\n",
       "        text-align: right;\n",
       "    }\n",
       "</style>\n",
       "<table border=\"1\" class=\"dataframe\">\n",
       "  <thead>\n",
       "    <tr style=\"text-align: right;\">\n",
       "      <th></th>\n",
       "      <th>stop_date</th>\n",
       "      <th>stop_time</th>\n",
       "      <th>driver_gender</th>\n",
       "      <th>driver_race</th>\n",
       "      <th>violation_raw</th>\n",
       "      <th>violation</th>\n",
       "      <th>search_conducted</th>\n",
       "      <th>search_type</th>\n",
       "      <th>stop_outcome</th>\n",
       "      <th>is_arrested</th>\n",
       "      <th>stop_duration</th>\n",
       "      <th>drugs_related_stop</th>\n",
       "      <th>district</th>\n",
       "    </tr>\n",
       "    <tr>\n",
       "      <th>stop_datetime</th>\n",
       "      <th></th>\n",
       "      <th></th>\n",
       "      <th></th>\n",
       "      <th></th>\n",
       "      <th></th>\n",
       "      <th></th>\n",
       "      <th></th>\n",
       "      <th></th>\n",
       "      <th></th>\n",
       "      <th></th>\n",
       "      <th></th>\n",
       "      <th></th>\n",
       "      <th></th>\n",
       "    </tr>\n",
       "  </thead>\n",
       "  <tbody>\n",
       "    <tr>\n",
       "      <th>2005-01-04 12:55:00</th>\n",
       "      <td>2005-01-04</td>\n",
       "      <td>12:55</td>\n",
       "      <td>M</td>\n",
       "      <td>White</td>\n",
       "      <td>Equipment/Inspection Violation</td>\n",
       "      <td>Equipment</td>\n",
       "      <td>False</td>\n",
       "      <td>NaN</td>\n",
       "      <td>Citation</td>\n",
       "      <td>False</td>\n",
       "      <td>0-15 Min</td>\n",
       "      <td>False</td>\n",
       "      <td>Zone X4</td>\n",
       "    </tr>\n",
       "    <tr>\n",
       "      <th>2005-01-23 23:15:00</th>\n",
       "      <td>2005-01-23</td>\n",
       "      <td>23:15</td>\n",
       "      <td>M</td>\n",
       "      <td>White</td>\n",
       "      <td>Speeding</td>\n",
       "      <td>Speeding</td>\n",
       "      <td>False</td>\n",
       "      <td>NaN</td>\n",
       "      <td>Citation</td>\n",
       "      <td>False</td>\n",
       "      <td>0-15 Min</td>\n",
       "      <td>False</td>\n",
       "      <td>Zone K3</td>\n",
       "    </tr>\n",
       "    <tr>\n",
       "      <th>2005-02-17 04:15:00</th>\n",
       "      <td>2005-02-17</td>\n",
       "      <td>04:15</td>\n",
       "      <td>M</td>\n",
       "      <td>White</td>\n",
       "      <td>Speeding</td>\n",
       "      <td>Speeding</td>\n",
       "      <td>False</td>\n",
       "      <td>NaN</td>\n",
       "      <td>Citation</td>\n",
       "      <td>False</td>\n",
       "      <td>0-15 Min</td>\n",
       "      <td>False</td>\n",
       "      <td>Zone X4</td>\n",
       "    </tr>\n",
       "    <tr>\n",
       "      <th>2005-02-20 17:15:00</th>\n",
       "      <td>2005-02-20</td>\n",
       "      <td>17:15</td>\n",
       "      <td>M</td>\n",
       "      <td>White</td>\n",
       "      <td>Call for Service</td>\n",
       "      <td>Other</td>\n",
       "      <td>False</td>\n",
       "      <td>NaN</td>\n",
       "      <td>Arrest Driver</td>\n",
       "      <td>True</td>\n",
       "      <td>16-30 Min</td>\n",
       "      <td>False</td>\n",
       "      <td>Zone X1</td>\n",
       "    </tr>\n",
       "    <tr>\n",
       "      <th>2005-02-24 01:20:00</th>\n",
       "      <td>2005-02-24</td>\n",
       "      <td>01:20</td>\n",
       "      <td>F</td>\n",
       "      <td>White</td>\n",
       "      <td>Speeding</td>\n",
       "      <td>Speeding</td>\n",
       "      <td>False</td>\n",
       "      <td>NaN</td>\n",
       "      <td>Citation</td>\n",
       "      <td>False</td>\n",
       "      <td>0-15 Min</td>\n",
       "      <td>False</td>\n",
       "      <td>Zone X3</td>\n",
       "    </tr>\n",
       "  </tbody>\n",
       "</table>\n",
       "</div>"
      ],
      "text/plain": [
       "                      stop_date stop_time driver_gender driver_race  \\\n",
       "stop_datetime                                                         \n",
       "2005-01-04 12:55:00  2005-01-04     12:55             M       White   \n",
       "2005-01-23 23:15:00  2005-01-23     23:15             M       White   \n",
       "2005-02-17 04:15:00  2005-02-17     04:15             M       White   \n",
       "2005-02-20 17:15:00  2005-02-20     17:15             M       White   \n",
       "2005-02-24 01:20:00  2005-02-24     01:20             F       White   \n",
       "\n",
       "                                      violation_raw  violation  \\\n",
       "stop_datetime                                                    \n",
       "2005-01-04 12:55:00  Equipment/Inspection Violation  Equipment   \n",
       "2005-01-23 23:15:00                        Speeding   Speeding   \n",
       "2005-02-17 04:15:00                        Speeding   Speeding   \n",
       "2005-02-20 17:15:00                Call for Service      Other   \n",
       "2005-02-24 01:20:00                        Speeding   Speeding   \n",
       "\n",
       "                     search_conducted search_type   stop_outcome  is_arrested  \\\n",
       "stop_datetime                                                                   \n",
       "2005-01-04 12:55:00             False         NaN       Citation        False   \n",
       "2005-01-23 23:15:00             False         NaN       Citation        False   \n",
       "2005-02-17 04:15:00             False         NaN       Citation        False   \n",
       "2005-02-20 17:15:00             False         NaN  Arrest Driver         True   \n",
       "2005-02-24 01:20:00             False         NaN       Citation        False   \n",
       "\n",
       "                    stop_duration  drugs_related_stop district  \n",
       "stop_datetime                                                   \n",
       "2005-01-04 12:55:00      0-15 Min               False  Zone X4  \n",
       "2005-01-23 23:15:00      0-15 Min               False  Zone K3  \n",
       "2005-02-17 04:15:00      0-15 Min               False  Zone X4  \n",
       "2005-02-20 17:15:00     16-30 Min               False  Zone X1  \n",
       "2005-02-24 01:20:00      0-15 Min               False  Zone X3  "
      ]
     },
     "execution_count": 13,
     "metadata": {},
     "output_type": "execute_result"
    }
   ],
   "source": [
    "df.head()"
   ]
  },
  {
   "cell_type": "code",
   "execution_count": 14,
   "id": "6ae2457a",
   "metadata": {},
   "outputs": [],
   "source": [
    "# drop the redundant stop_date and stop_time columns \n",
    "df.drop(['stop_date', 'stop_time'], axis = 'columns', inplace = True)"
   ]
  },
  {
   "cell_type": "code",
   "execution_count": 15,
   "id": "a4a8b515",
   "metadata": {},
   "outputs": [
    {
     "data": {
      "text/html": [
       "<div>\n",
       "<style scoped>\n",
       "    .dataframe tbody tr th:only-of-type {\n",
       "        vertical-align: middle;\n",
       "    }\n",
       "\n",
       "    .dataframe tbody tr th {\n",
       "        vertical-align: top;\n",
       "    }\n",
       "\n",
       "    .dataframe thead th {\n",
       "        text-align: right;\n",
       "    }\n",
       "</style>\n",
       "<table border=\"1\" class=\"dataframe\">\n",
       "  <thead>\n",
       "    <tr style=\"text-align: right;\">\n",
       "      <th></th>\n",
       "      <th>driver_gender</th>\n",
       "      <th>driver_race</th>\n",
       "      <th>violation_raw</th>\n",
       "      <th>violation</th>\n",
       "      <th>search_conducted</th>\n",
       "      <th>search_type</th>\n",
       "      <th>stop_outcome</th>\n",
       "      <th>is_arrested</th>\n",
       "      <th>stop_duration</th>\n",
       "      <th>drugs_related_stop</th>\n",
       "      <th>district</th>\n",
       "    </tr>\n",
       "    <tr>\n",
       "      <th>stop_datetime</th>\n",
       "      <th></th>\n",
       "      <th></th>\n",
       "      <th></th>\n",
       "      <th></th>\n",
       "      <th></th>\n",
       "      <th></th>\n",
       "      <th></th>\n",
       "      <th></th>\n",
       "      <th></th>\n",
       "      <th></th>\n",
       "      <th></th>\n",
       "    </tr>\n",
       "  </thead>\n",
       "  <tbody>\n",
       "    <tr>\n",
       "      <th>2005-01-04 12:55:00</th>\n",
       "      <td>M</td>\n",
       "      <td>White</td>\n",
       "      <td>Equipment/Inspection Violation</td>\n",
       "      <td>Equipment</td>\n",
       "      <td>False</td>\n",
       "      <td>NaN</td>\n",
       "      <td>Citation</td>\n",
       "      <td>False</td>\n",
       "      <td>0-15 Min</td>\n",
       "      <td>False</td>\n",
       "      <td>Zone X4</td>\n",
       "    </tr>\n",
       "    <tr>\n",
       "      <th>2005-01-23 23:15:00</th>\n",
       "      <td>M</td>\n",
       "      <td>White</td>\n",
       "      <td>Speeding</td>\n",
       "      <td>Speeding</td>\n",
       "      <td>False</td>\n",
       "      <td>NaN</td>\n",
       "      <td>Citation</td>\n",
       "      <td>False</td>\n",
       "      <td>0-15 Min</td>\n",
       "      <td>False</td>\n",
       "      <td>Zone K3</td>\n",
       "    </tr>\n",
       "    <tr>\n",
       "      <th>2005-02-17 04:15:00</th>\n",
       "      <td>M</td>\n",
       "      <td>White</td>\n",
       "      <td>Speeding</td>\n",
       "      <td>Speeding</td>\n",
       "      <td>False</td>\n",
       "      <td>NaN</td>\n",
       "      <td>Citation</td>\n",
       "      <td>False</td>\n",
       "      <td>0-15 Min</td>\n",
       "      <td>False</td>\n",
       "      <td>Zone X4</td>\n",
       "    </tr>\n",
       "    <tr>\n",
       "      <th>2005-02-20 17:15:00</th>\n",
       "      <td>M</td>\n",
       "      <td>White</td>\n",
       "      <td>Call for Service</td>\n",
       "      <td>Other</td>\n",
       "      <td>False</td>\n",
       "      <td>NaN</td>\n",
       "      <td>Arrest Driver</td>\n",
       "      <td>True</td>\n",
       "      <td>16-30 Min</td>\n",
       "      <td>False</td>\n",
       "      <td>Zone X1</td>\n",
       "    </tr>\n",
       "    <tr>\n",
       "      <th>2005-02-24 01:20:00</th>\n",
       "      <td>F</td>\n",
       "      <td>White</td>\n",
       "      <td>Speeding</td>\n",
       "      <td>Speeding</td>\n",
       "      <td>False</td>\n",
       "      <td>NaN</td>\n",
       "      <td>Citation</td>\n",
       "      <td>False</td>\n",
       "      <td>0-15 Min</td>\n",
       "      <td>False</td>\n",
       "      <td>Zone X3</td>\n",
       "    </tr>\n",
       "  </tbody>\n",
       "</table>\n",
       "</div>"
      ],
      "text/plain": [
       "                    driver_gender driver_race                   violation_raw  \\\n",
       "stop_datetime                                                                   \n",
       "2005-01-04 12:55:00             M       White  Equipment/Inspection Violation   \n",
       "2005-01-23 23:15:00             M       White                        Speeding   \n",
       "2005-02-17 04:15:00             M       White                        Speeding   \n",
       "2005-02-20 17:15:00             M       White                Call for Service   \n",
       "2005-02-24 01:20:00             F       White                        Speeding   \n",
       "\n",
       "                     violation  search_conducted search_type   stop_outcome  \\\n",
       "stop_datetime                                                                 \n",
       "2005-01-04 12:55:00  Equipment             False         NaN       Citation   \n",
       "2005-01-23 23:15:00   Speeding             False         NaN       Citation   \n",
       "2005-02-17 04:15:00   Speeding             False         NaN       Citation   \n",
       "2005-02-20 17:15:00      Other             False         NaN  Arrest Driver   \n",
       "2005-02-24 01:20:00   Speeding             False         NaN       Citation   \n",
       "\n",
       "                     is_arrested stop_duration  drugs_related_stop district  \n",
       "stop_datetime                                                                \n",
       "2005-01-04 12:55:00        False      0-15 Min               False  Zone X4  \n",
       "2005-01-23 23:15:00        False      0-15 Min               False  Zone K3  \n",
       "2005-02-17 04:15:00        False      0-15 Min               False  Zone X4  \n",
       "2005-02-20 17:15:00         True     16-30 Min               False  Zone X1  \n",
       "2005-02-24 01:20:00        False      0-15 Min               False  Zone X3  "
      ]
     },
     "execution_count": 15,
     "metadata": {},
     "output_type": "execute_result"
    }
   ],
   "source": [
    "df.head()"
   ]
  },
  {
   "cell_type": "markdown",
   "id": "806aa45e",
   "metadata": {},
   "source": [
    "## Data Cleaning"
   ]
  },
  {
   "cell_type": "code",
   "execution_count": 16,
   "id": "39360654",
   "metadata": {},
   "outputs": [
    {
     "data": {
      "text/plain": [
       "driver_gender          5205\n",
       "driver_race            5202\n",
       "violation_raw          5202\n",
       "violation              5202\n",
       "search_conducted          0\n",
       "search_type           88434\n",
       "stop_outcome           5202\n",
       "is_arrested               0\n",
       "stop_duration          5202\n",
       "drugs_related_stop        0\n",
       "district                  0\n",
       "dtype: int64"
      ]
     },
     "execution_count": 16,
     "metadata": {},
     "output_type": "execute_result"
    }
   ],
   "source": [
    "df.isnull().sum()"
   ]
  },
  {
   "cell_type": "code",
   "execution_count": 17,
   "id": "50924a4b",
   "metadata": {},
   "outputs": [],
   "source": [
    "# drop the null values row-wise with the driver_gender column\n",
    "df.dropna(subset = ['driver_gender'], inplace = True)"
   ]
  },
  {
   "cell_type": "code",
   "execution_count": 18,
   "id": "6c2c6636",
   "metadata": {},
   "outputs": [
    {
     "data": {
      "text/plain": [
       "driver_gender             0\n",
       "driver_race               0\n",
       "violation_raw             0\n",
       "violation                 0\n",
       "search_conducted          0\n",
       "search_type           83229\n",
       "stop_outcome              0\n",
       "is_arrested               0\n",
       "stop_duration             0\n",
       "drugs_related_stop        0\n",
       "district                  0\n",
       "dtype: int64"
      ]
     },
     "execution_count": 18,
     "metadata": {},
     "output_type": "execute_result"
    }
   ],
   "source": [
    "df.isnull().sum()"
   ]
  },
  {
   "cell_type": "markdown",
   "id": "9c0a6e52",
   "metadata": {},
   "source": [
    "## Exploratory Data Analysis"
   ]
  },
  {
   "cell_type": "code",
   "execution_count": 19,
   "id": "f8558930",
   "metadata": {},
   "outputs": [
    {
     "data": {
      "text/html": [
       "<div>\n",
       "<style scoped>\n",
       "    .dataframe tbody tr th:only-of-type {\n",
       "        vertical-align: middle;\n",
       "    }\n",
       "\n",
       "    .dataframe tbody tr th {\n",
       "        vertical-align: top;\n",
       "    }\n",
       "\n",
       "    .dataframe thead th {\n",
       "        text-align: right;\n",
       "    }\n",
       "</style>\n",
       "<table border=\"1\" class=\"dataframe\">\n",
       "  <thead>\n",
       "    <tr style=\"text-align: right;\">\n",
       "      <th></th>\n",
       "      <th>driver_gender</th>\n",
       "      <th>driver_race</th>\n",
       "      <th>violation_raw</th>\n",
       "      <th>violation</th>\n",
       "      <th>search_conducted</th>\n",
       "      <th>search_type</th>\n",
       "      <th>stop_outcome</th>\n",
       "      <th>is_arrested</th>\n",
       "      <th>stop_duration</th>\n",
       "      <th>drugs_related_stop</th>\n",
       "      <th>district</th>\n",
       "    </tr>\n",
       "    <tr>\n",
       "      <th>stop_datetime</th>\n",
       "      <th></th>\n",
       "      <th></th>\n",
       "      <th></th>\n",
       "      <th></th>\n",
       "      <th></th>\n",
       "      <th></th>\n",
       "      <th></th>\n",
       "      <th></th>\n",
       "      <th></th>\n",
       "      <th></th>\n",
       "      <th></th>\n",
       "    </tr>\n",
       "  </thead>\n",
       "  <tbody>\n",
       "    <tr>\n",
       "      <th>2005-01-04 12:55:00</th>\n",
       "      <td>M</td>\n",
       "      <td>White</td>\n",
       "      <td>Equipment/Inspection Violation</td>\n",
       "      <td>Equipment</td>\n",
       "      <td>False</td>\n",
       "      <td>NaN</td>\n",
       "      <td>Citation</td>\n",
       "      <td>False</td>\n",
       "      <td>0-15 Min</td>\n",
       "      <td>False</td>\n",
       "      <td>Zone X4</td>\n",
       "    </tr>\n",
       "    <tr>\n",
       "      <th>2005-01-23 23:15:00</th>\n",
       "      <td>M</td>\n",
       "      <td>White</td>\n",
       "      <td>Speeding</td>\n",
       "      <td>Speeding</td>\n",
       "      <td>False</td>\n",
       "      <td>NaN</td>\n",
       "      <td>Citation</td>\n",
       "      <td>False</td>\n",
       "      <td>0-15 Min</td>\n",
       "      <td>False</td>\n",
       "      <td>Zone K3</td>\n",
       "    </tr>\n",
       "    <tr>\n",
       "      <th>2005-02-17 04:15:00</th>\n",
       "      <td>M</td>\n",
       "      <td>White</td>\n",
       "      <td>Speeding</td>\n",
       "      <td>Speeding</td>\n",
       "      <td>False</td>\n",
       "      <td>NaN</td>\n",
       "      <td>Citation</td>\n",
       "      <td>False</td>\n",
       "      <td>0-15 Min</td>\n",
       "      <td>False</td>\n",
       "      <td>Zone X4</td>\n",
       "    </tr>\n",
       "    <tr>\n",
       "      <th>2005-02-20 17:15:00</th>\n",
       "      <td>M</td>\n",
       "      <td>White</td>\n",
       "      <td>Call for Service</td>\n",
       "      <td>Other</td>\n",
       "      <td>False</td>\n",
       "      <td>NaN</td>\n",
       "      <td>Arrest Driver</td>\n",
       "      <td>True</td>\n",
       "      <td>16-30 Min</td>\n",
       "      <td>False</td>\n",
       "      <td>Zone X1</td>\n",
       "    </tr>\n",
       "    <tr>\n",
       "      <th>2005-02-24 01:20:00</th>\n",
       "      <td>F</td>\n",
       "      <td>White</td>\n",
       "      <td>Speeding</td>\n",
       "      <td>Speeding</td>\n",
       "      <td>False</td>\n",
       "      <td>NaN</td>\n",
       "      <td>Citation</td>\n",
       "      <td>False</td>\n",
       "      <td>0-15 Min</td>\n",
       "      <td>False</td>\n",
       "      <td>Zone X3</td>\n",
       "    </tr>\n",
       "  </tbody>\n",
       "</table>\n",
       "</div>"
      ],
      "text/plain": [
       "                    driver_gender driver_race                   violation_raw  \\\n",
       "stop_datetime                                                                   \n",
       "2005-01-04 12:55:00             M       White  Equipment/Inspection Violation   \n",
       "2005-01-23 23:15:00             M       White                        Speeding   \n",
       "2005-02-17 04:15:00             M       White                        Speeding   \n",
       "2005-02-20 17:15:00             M       White                Call for Service   \n",
       "2005-02-24 01:20:00             F       White                        Speeding   \n",
       "\n",
       "                     violation  search_conducted search_type   stop_outcome  \\\n",
       "stop_datetime                                                                 \n",
       "2005-01-04 12:55:00  Equipment             False         NaN       Citation   \n",
       "2005-01-23 23:15:00   Speeding             False         NaN       Citation   \n",
       "2005-02-17 04:15:00   Speeding             False         NaN       Citation   \n",
       "2005-02-20 17:15:00      Other             False         NaN  Arrest Driver   \n",
       "2005-02-24 01:20:00   Speeding             False         NaN       Citation   \n",
       "\n",
       "                     is_arrested stop_duration  drugs_related_stop district  \n",
       "stop_datetime                                                                \n",
       "2005-01-04 12:55:00        False      0-15 Min               False  Zone X4  \n",
       "2005-01-23 23:15:00        False      0-15 Min               False  Zone K3  \n",
       "2005-02-17 04:15:00        False      0-15 Min               False  Zone X4  \n",
       "2005-02-20 17:15:00         True     16-30 Min               False  Zone X1  \n",
       "2005-02-24 01:20:00        False      0-15 Min               False  Zone X3  "
      ]
     },
     "execution_count": 19,
     "metadata": {},
     "output_type": "execute_result"
    }
   ],
   "source": [
    "df.head()"
   ]
  },
  {
   "cell_type": "code",
   "execution_count": 20,
   "id": "57373beb",
   "metadata": {},
   "outputs": [
    {
     "data": {
      "text/plain": [
       "(86536, 11)"
      ]
     },
     "execution_count": 20,
     "metadata": {},
     "output_type": "execute_result"
    }
   ],
   "source": [
    "df.shape"
   ]
  },
  {
   "cell_type": "markdown",
   "id": "2e6dff50",
   "metadata": {},
   "source": [
    "### Driver Gender"
   ]
  },
  {
   "cell_type": "code",
   "execution_count": 21,
   "id": "d079d7b0",
   "metadata": {},
   "outputs": [
    {
     "data": {
      "text/plain": [
       "M    0.72527\n",
       "F    0.27473\n",
       "Name: driver_gender, dtype: float64"
      ]
     },
     "execution_count": 21,
     "metadata": {},
     "output_type": "execute_result"
    }
   ],
   "source": [
    "# No of Male and Female drivers\n",
    "df.driver_gender.value_counts(normalize = True)"
   ]
  },
  {
   "cell_type": "markdown",
   "id": "6911d4bd",
   "metadata": {},
   "source": [
    "#### 73% of the drivers are Male"
   ]
  },
  {
   "cell_type": "code",
   "execution_count": 22,
   "id": "c718354e",
   "metadata": {},
   "outputs": [
    {
     "data": {
      "text/plain": [
       "Speeding               48423\n",
       "Moving violation       16224\n",
       "Equipment              10921\n",
       "Other                   4409\n",
       "Registration/plates     3703\n",
       "Seat belt               2856\n",
       "Name: violation, dtype: int64"
      ]
     },
     "execution_count": 22,
     "metadata": {},
     "output_type": "execute_result"
    }
   ],
   "source": [
    "df.violation.value_counts()"
   ]
  },
  {
   "cell_type": "code",
   "execution_count": 23,
   "id": "ee8868ad",
   "metadata": {},
   "outputs": [
    {
     "data": {
      "text/plain": [
       "Speeding                            48423\n",
       "Other Traffic Violation             16224\n",
       "Equipment/Inspection Violation      10921\n",
       "Registration Violation               3703\n",
       "Seatbelt Violation                   2856\n",
       "Special Detail/Directed Patrol       2467\n",
       "Call for Service                     1391\n",
       "Motorist Assist/Courtesy              205\n",
       "Violation of City/Town Ordinance      181\n",
       "APB                                    91\n",
       "Suspicious Person                      56\n",
       "Warrant                                18\n",
       "Name: violation_raw, dtype: int64"
      ]
     },
     "execution_count": 23,
     "metadata": {},
     "output_type": "execute_result"
    }
   ],
   "source": [
    "df.violation_raw.value_counts()"
   ]
  },
  {
   "cell_type": "code",
   "execution_count": 24,
   "id": "af48e013",
   "metadata": {},
   "outputs": [],
   "source": [
    "Male = df[df.driver_gender == 'M'] \n",
    "Female = df[df.driver_gender == 'F'] "
   ]
  },
  {
   "cell_type": "code",
   "execution_count": 25,
   "id": "ec0c6f38",
   "metadata": {},
   "outputs": [
    {
     "name": "stdout",
     "output_type": "stream",
     "text": [
      "Male:\n"
     ]
    },
    {
     "data": {
      "text/plain": [
       "Speeding               0.522243\n",
       "Moving violation       0.206144\n",
       "Equipment              0.134158\n",
       "Other                  0.058985\n",
       "Registration/plates    0.042175\n",
       "Seat belt              0.036296\n",
       "Name: violation, dtype: float64"
      ]
     },
     "execution_count": 25,
     "metadata": {},
     "output_type": "execute_result"
    }
   ],
   "source": [
    "print('Male:')\n",
    "Male.violation.value_counts(normalize = True)"
   ]
  },
  {
   "cell_type": "code",
   "execution_count": 26,
   "id": "f372a17d",
   "metadata": {},
   "outputs": [
    {
     "name": "stdout",
     "output_type": "stream",
     "text": [
      "Female:\n"
     ]
    },
    {
     "data": {
      "text/plain": [
       "Speeding               0.658114\n",
       "Moving violation       0.138218\n",
       "Equipment              0.105199\n",
       "Registration/plates    0.044418\n",
       "Other                  0.029738\n",
       "Seat belt              0.024312\n",
       "Name: violation, dtype: float64"
      ]
     },
     "execution_count": 26,
     "metadata": {},
     "output_type": "execute_result"
    }
   ],
   "source": [
    "print('Female:')\n",
    "Female.violation.value_counts(normalize = True)"
   ]
  },
  {
   "cell_type": "markdown",
   "id": "1d6a0697",
   "metadata": {},
   "source": [
    "### Females are more prone to speeding violation than Males \n",
    "### Speeding violation is the commonest in both Male and Female drivers"
   ]
  },
  {
   "cell_type": "code",
   "execution_count": 27,
   "id": "942945c7",
   "metadata": {},
   "outputs": [
    {
     "data": {
      "text/html": [
       "<div>\n",
       "<style scoped>\n",
       "    .dataframe tbody tr th:only-of-type {\n",
       "        vertical-align: middle;\n",
       "    }\n",
       "\n",
       "    .dataframe tbody tr th {\n",
       "        vertical-align: top;\n",
       "    }\n",
       "\n",
       "    .dataframe thead th {\n",
       "        text-align: right;\n",
       "    }\n",
       "</style>\n",
       "<table border=\"1\" class=\"dataframe\">\n",
       "  <thead>\n",
       "    <tr style=\"text-align: right;\">\n",
       "      <th></th>\n",
       "      <th>driver_gender</th>\n",
       "      <th>driver_race</th>\n",
       "      <th>violation_raw</th>\n",
       "      <th>violation</th>\n",
       "      <th>search_conducted</th>\n",
       "      <th>search_type</th>\n",
       "      <th>stop_outcome</th>\n",
       "      <th>is_arrested</th>\n",
       "      <th>stop_duration</th>\n",
       "      <th>drugs_related_stop</th>\n",
       "      <th>district</th>\n",
       "    </tr>\n",
       "    <tr>\n",
       "      <th>stop_datetime</th>\n",
       "      <th></th>\n",
       "      <th></th>\n",
       "      <th></th>\n",
       "      <th></th>\n",
       "      <th></th>\n",
       "      <th></th>\n",
       "      <th></th>\n",
       "      <th></th>\n",
       "      <th></th>\n",
       "      <th></th>\n",
       "      <th></th>\n",
       "    </tr>\n",
       "  </thead>\n",
       "  <tbody>\n",
       "    <tr>\n",
       "      <th>2006-03-31 07:30:00</th>\n",
       "      <td>M</td>\n",
       "      <td>White</td>\n",
       "      <td>Suspicious Person</td>\n",
       "      <td>Other</td>\n",
       "      <td>True</td>\n",
       "      <td>Incident to Arrest,Protective Frisk</td>\n",
       "      <td>Arrest Driver</td>\n",
       "      <td>True</td>\n",
       "      <td>16-30 Min</td>\n",
       "      <td>False</td>\n",
       "      <td>Zone K2</td>\n",
       "    </tr>\n",
       "    <tr>\n",
       "      <th>2007-02-15 04:27:00</th>\n",
       "      <td>M</td>\n",
       "      <td>White</td>\n",
       "      <td>Suspicious Person</td>\n",
       "      <td>Other</td>\n",
       "      <td>True</td>\n",
       "      <td>Incident to Arrest</td>\n",
       "      <td>Arrest Passenger</td>\n",
       "      <td>True</td>\n",
       "      <td>16-30 Min</td>\n",
       "      <td>False</td>\n",
       "      <td>Zone X4</td>\n",
       "    </tr>\n",
       "    <tr>\n",
       "      <th>2007-04-24 17:29:00</th>\n",
       "      <td>F</td>\n",
       "      <td>Black</td>\n",
       "      <td>Suspicious Person</td>\n",
       "      <td>Other</td>\n",
       "      <td>True</td>\n",
       "      <td>Incident to Arrest,Inventory</td>\n",
       "      <td>Arrest Driver</td>\n",
       "      <td>True</td>\n",
       "      <td>30+ Min</td>\n",
       "      <td>False</td>\n",
       "      <td>Zone X4</td>\n",
       "    </tr>\n",
       "    <tr>\n",
       "      <th>2007-10-12 13:00:00</th>\n",
       "      <td>M</td>\n",
       "      <td>White</td>\n",
       "      <td>Suspicious Person</td>\n",
       "      <td>Other</td>\n",
       "      <td>True</td>\n",
       "      <td>Probable Cause</td>\n",
       "      <td>Arrest Driver</td>\n",
       "      <td>True</td>\n",
       "      <td>30+ Min</td>\n",
       "      <td>True</td>\n",
       "      <td>Zone X4</td>\n",
       "    </tr>\n",
       "    <tr>\n",
       "      <th>2009-11-01 12:42:00</th>\n",
       "      <td>M</td>\n",
       "      <td>White</td>\n",
       "      <td>Suspicious Person</td>\n",
       "      <td>Other</td>\n",
       "      <td>True</td>\n",
       "      <td>Protective Frisk</td>\n",
       "      <td>Arrest Driver</td>\n",
       "      <td>True</td>\n",
       "      <td>30+ Min</td>\n",
       "      <td>True</td>\n",
       "      <td>Zone K2</td>\n",
       "    </tr>\n",
       "    <tr>\n",
       "      <th>2010-02-26 02:38:00</th>\n",
       "      <td>M</td>\n",
       "      <td>Black</td>\n",
       "      <td>Suspicious Person</td>\n",
       "      <td>Other</td>\n",
       "      <td>False</td>\n",
       "      <td>NaN</td>\n",
       "      <td>Arrest Driver</td>\n",
       "      <td>True</td>\n",
       "      <td>0-15 Min</td>\n",
       "      <td>False</td>\n",
       "      <td>Zone X4</td>\n",
       "    </tr>\n",
       "    <tr>\n",
       "      <th>2010-04-13 23:41:00</th>\n",
       "      <td>M</td>\n",
       "      <td>White</td>\n",
       "      <td>Suspicious Person</td>\n",
       "      <td>Other</td>\n",
       "      <td>False</td>\n",
       "      <td>NaN</td>\n",
       "      <td>Arrest Driver</td>\n",
       "      <td>True</td>\n",
       "      <td>16-30 Min</td>\n",
       "      <td>False</td>\n",
       "      <td>Zone K1</td>\n",
       "    </tr>\n",
       "    <tr>\n",
       "      <th>2011-07-15 23:53:00</th>\n",
       "      <td>M</td>\n",
       "      <td>White</td>\n",
       "      <td>Suspicious Person</td>\n",
       "      <td>Other</td>\n",
       "      <td>False</td>\n",
       "      <td>NaN</td>\n",
       "      <td>Arrest Driver</td>\n",
       "      <td>True</td>\n",
       "      <td>0-15 Min</td>\n",
       "      <td>False</td>\n",
       "      <td>Zone K2</td>\n",
       "    </tr>\n",
       "    <tr>\n",
       "      <th>2013-11-13 02:24:00</th>\n",
       "      <td>M</td>\n",
       "      <td>Hispanic</td>\n",
       "      <td>Suspicious Person</td>\n",
       "      <td>Other</td>\n",
       "      <td>False</td>\n",
       "      <td>NaN</td>\n",
       "      <td>Arrest Driver</td>\n",
       "      <td>True</td>\n",
       "      <td>0-15 Min</td>\n",
       "      <td>False</td>\n",
       "      <td>Zone X4</td>\n",
       "    </tr>\n",
       "  </tbody>\n",
       "</table>\n",
       "</div>"
      ],
      "text/plain": [
       "                    driver_gender driver_race      violation_raw violation  \\\n",
       "stop_datetime                                                                \n",
       "2006-03-31 07:30:00             M       White  Suspicious Person     Other   \n",
       "2007-02-15 04:27:00             M       White  Suspicious Person     Other   \n",
       "2007-04-24 17:29:00             F       Black  Suspicious Person     Other   \n",
       "2007-10-12 13:00:00             M       White  Suspicious Person     Other   \n",
       "2009-11-01 12:42:00             M       White  Suspicious Person     Other   \n",
       "2010-02-26 02:38:00             M       Black  Suspicious Person     Other   \n",
       "2010-04-13 23:41:00             M       White  Suspicious Person     Other   \n",
       "2011-07-15 23:53:00             M       White  Suspicious Person     Other   \n",
       "2013-11-13 02:24:00             M    Hispanic  Suspicious Person     Other   \n",
       "\n",
       "                     search_conducted                          search_type  \\\n",
       "stop_datetime                                                                \n",
       "2006-03-31 07:30:00              True  Incident to Arrest,Protective Frisk   \n",
       "2007-02-15 04:27:00              True                   Incident to Arrest   \n",
       "2007-04-24 17:29:00              True         Incident to Arrest,Inventory   \n",
       "2007-10-12 13:00:00              True                       Probable Cause   \n",
       "2009-11-01 12:42:00              True                     Protective Frisk   \n",
       "2010-02-26 02:38:00             False                                  NaN   \n",
       "2010-04-13 23:41:00             False                                  NaN   \n",
       "2011-07-15 23:53:00             False                                  NaN   \n",
       "2013-11-13 02:24:00             False                                  NaN   \n",
       "\n",
       "                         stop_outcome  is_arrested stop_duration  \\\n",
       "stop_datetime                                                      \n",
       "2006-03-31 07:30:00     Arrest Driver         True     16-30 Min   \n",
       "2007-02-15 04:27:00  Arrest Passenger         True     16-30 Min   \n",
       "2007-04-24 17:29:00     Arrest Driver         True       30+ Min   \n",
       "2007-10-12 13:00:00     Arrest Driver         True       30+ Min   \n",
       "2009-11-01 12:42:00     Arrest Driver         True       30+ Min   \n",
       "2010-02-26 02:38:00     Arrest Driver         True      0-15 Min   \n",
       "2010-04-13 23:41:00     Arrest Driver         True     16-30 Min   \n",
       "2011-07-15 23:53:00     Arrest Driver         True      0-15 Min   \n",
       "2013-11-13 02:24:00     Arrest Driver         True      0-15 Min   \n",
       "\n",
       "                     drugs_related_stop district  \n",
       "stop_datetime                                     \n",
       "2006-03-31 07:30:00               False  Zone K2  \n",
       "2007-02-15 04:27:00               False  Zone X4  \n",
       "2007-04-24 17:29:00               False  Zone X4  \n",
       "2007-10-12 13:00:00                True  Zone X4  \n",
       "2009-11-01 12:42:00                True  Zone K2  \n",
       "2010-02-26 02:38:00               False  Zone X4  \n",
       "2010-04-13 23:41:00               False  Zone K1  \n",
       "2011-07-15 23:53:00               False  Zone K2  \n",
       "2013-11-13 02:24:00               False  Zone X4  "
      ]
     },
     "execution_count": 27,
     "metadata": {},
     "output_type": "execute_result"
    }
   ],
   "source": [
    "# suspicuious person finally arrested\n",
    "suspicious_arrested = df[(df.violation_raw == 'Suspicious Person') & (df.is_arrested == 1)] \n",
    "suspicious_arrested"
   ]
  },
  {
   "cell_type": "markdown",
   "id": "c9285708",
   "metadata": {},
   "source": [
    "### 9 out of the 56 person stopped for suspicion were finally arrested"
   ]
  },
  {
   "cell_type": "code",
   "execution_count": 96,
   "id": "bc478825",
   "metadata": {},
   "outputs": [
    {
     "data": {
      "text/html": [
       "<div>\n",
       "<style scoped>\n",
       "    .dataframe tbody tr th:only-of-type {\n",
       "        vertical-align: middle;\n",
       "    }\n",
       "\n",
       "    .dataframe tbody tr th {\n",
       "        vertical-align: top;\n",
       "    }\n",
       "\n",
       "    .dataframe thead th {\n",
       "        text-align: right;\n",
       "    }\n",
       "</style>\n",
       "<table border=\"1\" class=\"dataframe\">\n",
       "  <thead>\n",
       "    <tr style=\"text-align: right;\">\n",
       "      <th></th>\n",
       "      <th>driver_gender</th>\n",
       "      <th>driver_race</th>\n",
       "      <th>violation_raw</th>\n",
       "      <th>violation</th>\n",
       "      <th>search_conducted</th>\n",
       "      <th>search_type</th>\n",
       "      <th>stop_outcome</th>\n",
       "      <th>is_arrested</th>\n",
       "      <th>drugs_related_stop</th>\n",
       "      <th>district</th>\n",
       "      <th>stopDuration</th>\n",
       "    </tr>\n",
       "    <tr>\n",
       "      <th>stop_datetime</th>\n",
       "      <th></th>\n",
       "      <th></th>\n",
       "      <th></th>\n",
       "      <th></th>\n",
       "      <th></th>\n",
       "      <th></th>\n",
       "      <th></th>\n",
       "      <th></th>\n",
       "      <th></th>\n",
       "      <th></th>\n",
       "      <th></th>\n",
       "    </tr>\n",
       "  </thead>\n",
       "  <tbody>\n",
       "    <tr>\n",
       "      <th>2005-02-20 17:15:00</th>\n",
       "      <td>M</td>\n",
       "      <td>White</td>\n",
       "      <td>Call for Service</td>\n",
       "      <td>Other</td>\n",
       "      <td>False</td>\n",
       "      <td>NaN</td>\n",
       "      <td>Arrest Driver</td>\n",
       "      <td>True</td>\n",
       "      <td>False</td>\n",
       "      <td>Zone X1</td>\n",
       "      <td>22</td>\n",
       "    </tr>\n",
       "    <tr>\n",
       "      <th>2005-09-11 00:10:00</th>\n",
       "      <td>M</td>\n",
       "      <td>White</td>\n",
       "      <td>Other Traffic Violation</td>\n",
       "      <td>Moving violation</td>\n",
       "      <td>False</td>\n",
       "      <td>NaN</td>\n",
       "      <td>Arrest Driver</td>\n",
       "      <td>True</td>\n",
       "      <td>False</td>\n",
       "      <td>Zone X4</td>\n",
       "      <td>45</td>\n",
       "    </tr>\n",
       "    <tr>\n",
       "      <th>2005-10-02 09:30:00</th>\n",
       "      <td>M</td>\n",
       "      <td>White</td>\n",
       "      <td>Speeding</td>\n",
       "      <td>Speeding</td>\n",
       "      <td>True</td>\n",
       "      <td>Incident to Arrest</td>\n",
       "      <td>Arrest Driver</td>\n",
       "      <td>True</td>\n",
       "      <td>False</td>\n",
       "      <td>Zone K1</td>\n",
       "      <td>45</td>\n",
       "    </tr>\n",
       "    <tr>\n",
       "      <th>2005-10-02 17:13:00</th>\n",
       "      <td>M</td>\n",
       "      <td>White</td>\n",
       "      <td>Registration Violation</td>\n",
       "      <td>Registration/plates</td>\n",
       "      <td>False</td>\n",
       "      <td>NaN</td>\n",
       "      <td>Arrest Driver</td>\n",
       "      <td>True</td>\n",
       "      <td>False</td>\n",
       "      <td>Zone X4</td>\n",
       "      <td>45</td>\n",
       "    </tr>\n",
       "    <tr>\n",
       "      <th>2005-10-03 01:13:00</th>\n",
       "      <td>M</td>\n",
       "      <td>White</td>\n",
       "      <td>Speeding</td>\n",
       "      <td>Speeding</td>\n",
       "      <td>False</td>\n",
       "      <td>NaN</td>\n",
       "      <td>Arrest Driver</td>\n",
       "      <td>True</td>\n",
       "      <td>False</td>\n",
       "      <td>Zone X4</td>\n",
       "      <td>45</td>\n",
       "    </tr>\n",
       "  </tbody>\n",
       "</table>\n",
       "</div>"
      ],
      "text/plain": [
       "                    driver_gender driver_race            violation_raw  \\\n",
       "stop_datetime                                                            \n",
       "2005-02-20 17:15:00             M       White         Call for Service   \n",
       "2005-09-11 00:10:00             M       White  Other Traffic Violation   \n",
       "2005-10-02 09:30:00             M       White                 Speeding   \n",
       "2005-10-02 17:13:00             M       White   Registration Violation   \n",
       "2005-10-03 01:13:00             M       White                 Speeding   \n",
       "\n",
       "                               violation  search_conducted  \\\n",
       "stop_datetime                                                \n",
       "2005-02-20 17:15:00                Other             False   \n",
       "2005-09-11 00:10:00     Moving violation             False   \n",
       "2005-10-02 09:30:00             Speeding              True   \n",
       "2005-10-02 17:13:00  Registration/plates             False   \n",
       "2005-10-03 01:13:00             Speeding             False   \n",
       "\n",
       "                            search_type   stop_outcome  is_arrested  \\\n",
       "stop_datetime                                                         \n",
       "2005-02-20 17:15:00                 NaN  Arrest Driver         True   \n",
       "2005-09-11 00:10:00                 NaN  Arrest Driver         True   \n",
       "2005-10-02 09:30:00  Incident to Arrest  Arrest Driver         True   \n",
       "2005-10-02 17:13:00                 NaN  Arrest Driver         True   \n",
       "2005-10-03 01:13:00                 NaN  Arrest Driver         True   \n",
       "\n",
       "                     drugs_related_stop district  stopDuration  \n",
       "stop_datetime                                                   \n",
       "2005-02-20 17:15:00               False  Zone X1            22  \n",
       "2005-09-11 00:10:00               False  Zone X4            45  \n",
       "2005-10-02 09:30:00               False  Zone K1            45  \n",
       "2005-10-02 17:13:00               False  Zone X4            45  \n",
       "2005-10-03 01:13:00               False  Zone X4            45  "
      ]
     },
     "execution_count": 96,
     "metadata": {},
     "output_type": "execute_result"
    }
   ],
   "source": [
    "arrested = df[df['is_arrested'] == True]\n",
    "arrested.head()"
   ]
  },
  {
   "cell_type": "code",
   "execution_count": 105,
   "id": "f884b879",
   "metadata": {},
   "outputs": [
    {
     "data": {
      "text/plain": [
       "violation_raw\n",
       "Other Traffic Violation             940\n",
       "Equipment/Inspection Violation      709\n",
       "Speeding                            663\n",
       "Registration Violation              340\n",
       "Call for Service                    250\n",
       "Seatbelt Violation                   75\n",
       "Special Detail/Directed Patrol       26\n",
       "APB                                  22\n",
       "Motorist Assist/Courtesy             21\n",
       "Violation of City/Town Ordinance     12\n",
       "Warrant                              11\n",
       "Suspicious Person                     9\n",
       "Name: is_arrested, dtype: int64"
      ]
     },
     "execution_count": 105,
     "metadata": {},
     "output_type": "execute_result"
    }
   ],
   "source": [
    "violation4Arrest = arrested.groupby('violation_raw')['is_arrested'].count().sort_values(ascending = False)\n",
    "violation4Arrest"
   ]
  },
  {
   "cell_type": "code",
   "execution_count": 109,
   "id": "5e0ed55d",
   "metadata": {},
   "outputs": [
    {
     "data": {
      "text/plain": [
       "<AxesSubplot:xlabel='violation_raw'>"
      ]
     },
     "execution_count": 109,
     "metadata": {},
     "output_type": "execute_result"
    },
    {
     "data": {
      "image/png": "[encoded data removed]",
      "text/plain": [
       "<Figure size 792x360 with 1 Axes>"
      ]
     },
     "metadata": {
      "needs_background": "light"
     },
     "output_type": "display_data"
    }
   ],
   "source": [
    "plt.figure(figsize = (11, 5))\n",
    "violation4Arrest.plot(kind='bar')"
   ]
  },
  {
   "cell_type": "markdown",
   "id": "ccc1fa53",
   "metadata": {},
   "source": [
    "### Equipment/Inspection violation, speeding are top reaseons while driver stopped can get arrested."
   ]
  },
  {
   "cell_type": "markdown",
   "id": "26c8dbc2",
   "metadata": {},
   "source": [
    "## District"
   ]
  },
  {
   "cell_type": "code",
   "execution_count": 28,
   "id": "53ffd482",
   "metadata": {},
   "outputs": [
    {
     "data": {
      "text/plain": [
       "Zone X4    0.260042\n",
       "Zone K3    0.226033\n",
       "Zone K2    0.204100\n",
       "Zone X3    0.186905\n",
       "Zone K1    0.095868\n",
       "Zone X1    0.027052\n",
       "Name: district, dtype: float64"
      ]
     },
     "execution_count": 28,
     "metadata": {},
     "output_type": "execute_result"
    }
   ],
   "source": [
    "# proportion of police stoppage by district\n",
    "df.district.value_counts(normalize = True)"
   ]
  },
  {
   "cell_type": "code",
   "execution_count": 29,
   "id": "85d69cd8",
   "metadata": {},
   "outputs": [],
   "source": [
    "speeding = df[df.violation == 'Speeding']"
   ]
  },
  {
   "cell_type": "code",
   "execution_count": 30,
   "id": "5a0f90b1",
   "metadata": {},
   "outputs": [
    {
     "data": {
      "text/plain": [
       "Zone K3    12322\n",
       "Zone K2    10448\n",
       "Zone X4     9795\n",
       "Zone X3     8779\n",
       "Zone K1     5960\n",
       "Zone X1     1119\n",
       "Name: district, dtype: int64"
      ]
     },
     "execution_count": 30,
     "metadata": {},
     "output_type": "execute_result"
    }
   ],
   "source": [
    "speeding.district.value_counts()"
   ]
  },
  {
   "cell_type": "code",
   "execution_count": 31,
   "id": "64200089",
   "metadata": {},
   "outputs": [
    {
     "data": {
      "text/plain": [
       "<AxesSubplot:>"
      ]
     },
     "execution_count": 31,
     "metadata": {},
     "output_type": "execute_result"
    },
    {
     "data": {
      "image/png": "[encoded data removed]",
      "text/plain": [
       "<Figure size 432x288 with 1 Axes>"
      ]
     },
     "metadata": {
      "needs_background": "light"
     },
     "output_type": "display_data"
    }
   ],
   "source": [
    "speeding.district.value_counts().plot(kind = 'bar')"
   ]
  },
  {
   "cell_type": "markdown",
   "id": "420fc82a",
   "metadata": {},
   "source": [
    "### Zone K3 and K2 have the highest speeding related stoppage"
   ]
  },
  {
   "cell_type": "code",
   "execution_count": 32,
   "id": "a7d914ff",
   "metadata": {},
   "outputs": [
    {
     "data": {
      "text/html": [
       "<div>\n",
       "<style scoped>\n",
       "    .dataframe tbody tr th:only-of-type {\n",
       "        vertical-align: middle;\n",
       "    }\n",
       "\n",
       "    .dataframe tbody tr th {\n",
       "        vertical-align: top;\n",
       "    }\n",
       "\n",
       "    .dataframe thead th {\n",
       "        text-align: right;\n",
       "    }\n",
       "</style>\n",
       "<table border=\"1\" class=\"dataframe\">\n",
       "  <thead>\n",
       "    <tr style=\"text-align: right;\">\n",
       "      <th>district</th>\n",
       "      <th>Zone K1</th>\n",
       "      <th>Zone K2</th>\n",
       "      <th>Zone K3</th>\n",
       "      <th>Zone X1</th>\n",
       "      <th>Zone X3</th>\n",
       "      <th>Zone X4</th>\n",
       "    </tr>\n",
       "    <tr>\n",
       "      <th>violation</th>\n",
       "      <th></th>\n",
       "      <th></th>\n",
       "      <th></th>\n",
       "      <th></th>\n",
       "      <th></th>\n",
       "      <th></th>\n",
       "    </tr>\n",
       "  </thead>\n",
       "  <tbody>\n",
       "    <tr>\n",
       "      <th>Equipment</th>\n",
       "      <td>672</td>\n",
       "      <td>2061</td>\n",
       "      <td>2302</td>\n",
       "      <td>296</td>\n",
       "      <td>2049</td>\n",
       "      <td>3541</td>\n",
       "    </tr>\n",
       "    <tr>\n",
       "      <th>Moving violation</th>\n",
       "      <td>1254</td>\n",
       "      <td>2962</td>\n",
       "      <td>2898</td>\n",
       "      <td>671</td>\n",
       "      <td>3086</td>\n",
       "      <td>5353</td>\n",
       "    </tr>\n",
       "    <tr>\n",
       "      <th>Other</th>\n",
       "      <td>290</td>\n",
       "      <td>942</td>\n",
       "      <td>705</td>\n",
       "      <td>143</td>\n",
       "      <td>769</td>\n",
       "      <td>1560</td>\n",
       "    </tr>\n",
       "    <tr>\n",
       "      <th>Registration/plates</th>\n",
       "      <td>120</td>\n",
       "      <td>768</td>\n",
       "      <td>695</td>\n",
       "      <td>38</td>\n",
       "      <td>671</td>\n",
       "      <td>1411</td>\n",
       "    </tr>\n",
       "    <tr>\n",
       "      <th>Seat belt</th>\n",
       "      <td>0</td>\n",
       "      <td>481</td>\n",
       "      <td>638</td>\n",
       "      <td>74</td>\n",
       "      <td>820</td>\n",
       "      <td>843</td>\n",
       "    </tr>\n",
       "    <tr>\n",
       "      <th>Speeding</th>\n",
       "      <td>5960</td>\n",
       "      <td>10448</td>\n",
       "      <td>12322</td>\n",
       "      <td>1119</td>\n",
       "      <td>8779</td>\n",
       "      <td>9795</td>\n",
       "    </tr>\n",
       "  </tbody>\n",
       "</table>\n",
       "</div>"
      ],
      "text/plain": [
       "district             Zone K1  Zone K2  Zone K3  Zone X1  Zone X3  Zone X4\n",
       "violation                                                                \n",
       "Equipment                672     2061     2302      296     2049     3541\n",
       "Moving violation        1254     2962     2898      671     3086     5353\n",
       "Other                    290      942      705      143      769     1560\n",
       "Registration/plates      120      768      695       38      671     1411\n",
       "Seat belt                  0      481      638       74      820      843\n",
       "Speeding                5960    10448    12322     1119     8779     9795"
      ]
     },
     "execution_count": 32,
     "metadata": {},
     "output_type": "execute_result"
    }
   ],
   "source": [
    "# Groupby count on violation and district variables.\n",
    "df.groupby(['violation', 'district']).size().unstack()"
   ]
  },
  {
   "cell_type": "code",
   "execution_count": 90,
   "id": "fac7b953",
   "metadata": {},
   "outputs": [
    {
     "data": {
      "text/plain": [
       "<AxesSubplot:xlabel='district', ylabel='count'>"
      ]
     },
     "execution_count": 90,
     "metadata": {},
     "output_type": "execute_result"
    },
    {
     "data": {
      "image/png": "[encoded data removed]",
      "text/plain": [
       "<Figure size 936x360 with 1 Axes>"
      ]
     },
     "metadata": {
      "needs_background": "light"
     },
     "output_type": "display_data"
    }
   ],
   "source": [
    "plt.figure(figsize = (13, 5))\n",
    "sns.countplot(data = df, hue = 'violation',x= 'district')"
   ]
  },
  {
   "cell_type": "markdown",
   "id": "24163361",
   "metadata": {},
   "source": [
    "### Speeding violation has the highest stoppage for all district zones"
   ]
  },
  {
   "cell_type": "code",
   "execution_count": 33,
   "id": "d1d538eb",
   "metadata": {},
   "outputs": [
    {
     "data": {
      "text/html": [
       "<div>\n",
       "<style scoped>\n",
       "    .dataframe tbody tr th:only-of-type {\n",
       "        vertical-align: middle;\n",
       "    }\n",
       "\n",
       "    .dataframe tbody tr th {\n",
       "        vertical-align: top;\n",
       "    }\n",
       "\n",
       "    .dataframe thead th {\n",
       "        text-align: right;\n",
       "    }\n",
       "</style>\n",
       "<table border=\"1\" class=\"dataframe\">\n",
       "  <thead>\n",
       "    <tr style=\"text-align: right;\">\n",
       "      <th>district</th>\n",
       "      <th>Zone K1</th>\n",
       "      <th>Zone K2</th>\n",
       "      <th>Zone K3</th>\n",
       "      <th>Zone X1</th>\n",
       "      <th>Zone X3</th>\n",
       "      <th>Zone X4</th>\n",
       "    </tr>\n",
       "    <tr>\n",
       "      <th>violation</th>\n",
       "      <th></th>\n",
       "      <th></th>\n",
       "      <th></th>\n",
       "      <th></th>\n",
       "      <th></th>\n",
       "      <th></th>\n",
       "    </tr>\n",
       "  </thead>\n",
       "  <tbody>\n",
       "    <tr>\n",
       "      <th>Equipment</th>\n",
       "      <td>672</td>\n",
       "      <td>2061</td>\n",
       "      <td>2302</td>\n",
       "      <td>296</td>\n",
       "      <td>2049</td>\n",
       "      <td>3541</td>\n",
       "    </tr>\n",
       "    <tr>\n",
       "      <th>Moving violation</th>\n",
       "      <td>1254</td>\n",
       "      <td>2962</td>\n",
       "      <td>2898</td>\n",
       "      <td>671</td>\n",
       "      <td>3086</td>\n",
       "      <td>5353</td>\n",
       "    </tr>\n",
       "    <tr>\n",
       "      <th>Other</th>\n",
       "      <td>290</td>\n",
       "      <td>942</td>\n",
       "      <td>705</td>\n",
       "      <td>143</td>\n",
       "      <td>769</td>\n",
       "      <td>1560</td>\n",
       "    </tr>\n",
       "    <tr>\n",
       "      <th>Registration/plates</th>\n",
       "      <td>120</td>\n",
       "      <td>768</td>\n",
       "      <td>695</td>\n",
       "      <td>38</td>\n",
       "      <td>671</td>\n",
       "      <td>1411</td>\n",
       "    </tr>\n",
       "    <tr>\n",
       "      <th>Seat belt</th>\n",
       "      <td>0</td>\n",
       "      <td>481</td>\n",
       "      <td>638</td>\n",
       "      <td>74</td>\n",
       "      <td>820</td>\n",
       "      <td>843</td>\n",
       "    </tr>\n",
       "    <tr>\n",
       "      <th>Speeding</th>\n",
       "      <td>5960</td>\n",
       "      <td>10448</td>\n",
       "      <td>12322</td>\n",
       "      <td>1119</td>\n",
       "      <td>8779</td>\n",
       "      <td>9795</td>\n",
       "    </tr>\n",
       "  </tbody>\n",
       "</table>\n",
       "</div>"
      ],
      "text/plain": [
       "district             Zone K1  Zone K2  Zone K3  Zone X1  Zone X3  Zone X4\n",
       "violation                                                                \n",
       "Equipment                672     2061     2302      296     2049     3541\n",
       "Moving violation        1254     2962     2898      671     3086     5353\n",
       "Other                    290      942      705      143      769     1560\n",
       "Registration/plates      120      768      695       38      671     1411\n",
       "Seat belt                  0      481      638       74      820      843\n",
       "Speeding                5960    10448    12322     1119     8779     9795"
      ]
     },
     "execution_count": 33,
     "metadata": {},
     "output_type": "execute_result"
    }
   ],
   "source": [
    "# crosstab of violation and district \n",
    "pd.crosstab(df.violation, df.district)"
   ]
  },
  {
   "cell_type": "code",
   "execution_count": 34,
   "id": "45059429",
   "metadata": {},
   "outputs": [
    {
     "data": {
      "text/html": [
       "<div>\n",
       "<style scoped>\n",
       "    .dataframe tbody tr th:only-of-type {\n",
       "        vertical-align: middle;\n",
       "    }\n",
       "\n",
       "    .dataframe tbody tr th {\n",
       "        vertical-align: top;\n",
       "    }\n",
       "\n",
       "    .dataframe thead th {\n",
       "        text-align: right;\n",
       "    }\n",
       "</style>\n",
       "<table border=\"1\" class=\"dataframe\">\n",
       "  <thead>\n",
       "    <tr style=\"text-align: right;\">\n",
       "      <th></th>\n",
       "      <th>driver_gender</th>\n",
       "      <th>driver_race</th>\n",
       "      <th>violation_raw</th>\n",
       "      <th>violation</th>\n",
       "      <th>search_conducted</th>\n",
       "      <th>search_type</th>\n",
       "      <th>stop_outcome</th>\n",
       "      <th>is_arrested</th>\n",
       "      <th>stop_duration</th>\n",
       "      <th>drugs_related_stop</th>\n",
       "      <th>district</th>\n",
       "    </tr>\n",
       "    <tr>\n",
       "      <th>stop_datetime</th>\n",
       "      <th></th>\n",
       "      <th></th>\n",
       "      <th></th>\n",
       "      <th></th>\n",
       "      <th></th>\n",
       "      <th></th>\n",
       "      <th></th>\n",
       "      <th></th>\n",
       "      <th></th>\n",
       "      <th></th>\n",
       "      <th></th>\n",
       "    </tr>\n",
       "  </thead>\n",
       "  <tbody>\n",
       "    <tr>\n",
       "      <th>2005-01-04 12:55:00</th>\n",
       "      <td>M</td>\n",
       "      <td>White</td>\n",
       "      <td>Equipment/Inspection Violation</td>\n",
       "      <td>Equipment</td>\n",
       "      <td>False</td>\n",
       "      <td>NaN</td>\n",
       "      <td>Citation</td>\n",
       "      <td>False</td>\n",
       "      <td>0-15 Min</td>\n",
       "      <td>False</td>\n",
       "      <td>Zone X4</td>\n",
       "    </tr>\n",
       "    <tr>\n",
       "      <th>2005-01-23 23:15:00</th>\n",
       "      <td>M</td>\n",
       "      <td>White</td>\n",
       "      <td>Speeding</td>\n",
       "      <td>Speeding</td>\n",
       "      <td>False</td>\n",
       "      <td>NaN</td>\n",
       "      <td>Citation</td>\n",
       "      <td>False</td>\n",
       "      <td>0-15 Min</td>\n",
       "      <td>False</td>\n",
       "      <td>Zone K3</td>\n",
       "    </tr>\n",
       "    <tr>\n",
       "      <th>2005-02-17 04:15:00</th>\n",
       "      <td>M</td>\n",
       "      <td>White</td>\n",
       "      <td>Speeding</td>\n",
       "      <td>Speeding</td>\n",
       "      <td>False</td>\n",
       "      <td>NaN</td>\n",
       "      <td>Citation</td>\n",
       "      <td>False</td>\n",
       "      <td>0-15 Min</td>\n",
       "      <td>False</td>\n",
       "      <td>Zone X4</td>\n",
       "    </tr>\n",
       "    <tr>\n",
       "      <th>2005-02-20 17:15:00</th>\n",
       "      <td>M</td>\n",
       "      <td>White</td>\n",
       "      <td>Call for Service</td>\n",
       "      <td>Other</td>\n",
       "      <td>False</td>\n",
       "      <td>NaN</td>\n",
       "      <td>Arrest Driver</td>\n",
       "      <td>True</td>\n",
       "      <td>16-30 Min</td>\n",
       "      <td>False</td>\n",
       "      <td>Zone X1</td>\n",
       "    </tr>\n",
       "    <tr>\n",
       "      <th>2005-02-24 01:20:00</th>\n",
       "      <td>F</td>\n",
       "      <td>White</td>\n",
       "      <td>Speeding</td>\n",
       "      <td>Speeding</td>\n",
       "      <td>False</td>\n",
       "      <td>NaN</td>\n",
       "      <td>Citation</td>\n",
       "      <td>False</td>\n",
       "      <td>0-15 Min</td>\n",
       "      <td>False</td>\n",
       "      <td>Zone X3</td>\n",
       "    </tr>\n",
       "  </tbody>\n",
       "</table>\n",
       "</div>"
      ],
      "text/plain": [
       "                    driver_gender driver_race                   violation_raw  \\\n",
       "stop_datetime                                                                   \n",
       "2005-01-04 12:55:00             M       White  Equipment/Inspection Violation   \n",
       "2005-01-23 23:15:00             M       White                        Speeding   \n",
       "2005-02-17 04:15:00             M       White                        Speeding   \n",
       "2005-02-20 17:15:00             M       White                Call for Service   \n",
       "2005-02-24 01:20:00             F       White                        Speeding   \n",
       "\n",
       "                     violation  search_conducted search_type   stop_outcome  \\\n",
       "stop_datetime                                                                 \n",
       "2005-01-04 12:55:00  Equipment             False         NaN       Citation   \n",
       "2005-01-23 23:15:00   Speeding             False         NaN       Citation   \n",
       "2005-02-17 04:15:00   Speeding             False         NaN       Citation   \n",
       "2005-02-20 17:15:00      Other             False         NaN  Arrest Driver   \n",
       "2005-02-24 01:20:00   Speeding             False         NaN       Citation   \n",
       "\n",
       "                     is_arrested stop_duration  drugs_related_stop district  \n",
       "stop_datetime                                                                \n",
       "2005-01-04 12:55:00        False      0-15 Min               False  Zone X4  \n",
       "2005-01-23 23:15:00        False      0-15 Min               False  Zone K3  \n",
       "2005-02-17 04:15:00        False      0-15 Min               False  Zone X4  \n",
       "2005-02-20 17:15:00         True     16-30 Min               False  Zone X1  \n",
       "2005-02-24 01:20:00        False      0-15 Min               False  Zone X3  "
      ]
     },
     "execution_count": 34,
     "metadata": {},
     "output_type": "execute_result"
    }
   ],
   "source": [
    "df.head()"
   ]
  },
  {
   "cell_type": "code",
   "execution_count": 35,
   "id": "1ade629d",
   "metadata": {},
   "outputs": [
    {
     "data": {
      "text/plain": [
       "district\n",
       "Zone K1     77\n",
       "Zone K2    118\n",
       "Zone K3    253\n",
       "Zone X1      5\n",
       "Zone X3     82\n",
       "Zone X4    327\n",
       "Name: drugs_related_stop, dtype: int64"
      ]
     },
     "execution_count": 35,
     "metadata": {},
     "output_type": "execute_result"
    }
   ],
   "source": [
    "# district associated with more drug related stop \n",
    "district_drug = df.groupby('district').drugs_related_stop.sum() \n",
    "district_drug"
   ]
  },
  {
   "cell_type": "code",
   "execution_count": 36,
   "id": "cb1d0df1",
   "metadata": {},
   "outputs": [
    {
     "data": {
      "text/plain": [
       "<AxesSubplot:ylabel='district'>"
      ]
     },
     "execution_count": 36,
     "metadata": {},
     "output_type": "execute_result"
    },
    {
     "data": {
      "image/png": "[encoded data removed]",
      "text/plain": [
       "<Figure size 576x288 with 1 Axes>"
      ]
     },
     "metadata": {
      "needs_background": "light"
     },
     "output_type": "display_data"
    }
   ],
   "source": [
    "plt.figure(figsize = (8, 4))\n",
    "district_drug.sort_values().plot(kind = 'barh')"
   ]
  },
  {
   "cell_type": "markdown",
   "id": "b3f244da",
   "metadata": {},
   "source": [
    "### District Zone X4 has the highest drug related stop"
   ]
  },
  {
   "cell_type": "markdown",
   "id": "841a304c",
   "metadata": {},
   "source": [
    "## Driver's race"
   ]
  },
  {
   "cell_type": "code",
   "execution_count": 37,
   "id": "cc14673e",
   "metadata": {},
   "outputs": [
    {
     "data": {
      "text/plain": [
       "White       61870\n",
       "Black       12285\n",
       "Hispanic     9727\n",
       "Asian        2389\n",
       "Other         265\n",
       "Name: driver_race, dtype: int64"
      ]
     },
     "execution_count": 37,
     "metadata": {},
     "output_type": "execute_result"
    }
   ],
   "source": [
    "# Racial check of police stoppage \n",
    "df.driver_race.value_counts()"
   ]
  },
  {
   "cell_type": "code",
   "execution_count": 38,
   "id": "05c333e2",
   "metadata": {},
   "outputs": [
    {
     "data": {
      "text/plain": [
       "driver_race\n",
       "Asian         49\n",
       "Black        823\n",
       "Hispanic     598\n",
       "Other          3\n",
       "White       1834\n",
       "Name: search_conducted, dtype: int64"
      ]
     },
     "execution_count": 38,
     "metadata": {},
     "output_type": "execute_result"
    }
   ],
   "source": [
    "# Racial influence in search conducted \n",
    "race_search = df.groupby('driver_race').search_conducted.sum()\n",
    "race_search"
   ]
  },
  {
   "cell_type": "code",
   "execution_count": 39,
   "id": "f5369fdf",
   "metadata": {},
   "outputs": [
    {
     "data": {
      "text/plain": [
       "<AxesSubplot:xlabel='driver_race'>"
      ]
     },
     "execution_count": 39,
     "metadata": {},
     "output_type": "execute_result"
    },
    {
     "data": {
      "image/png": "[encoded data removed]",
      "text/plain": [
       "<Figure size 432x288 with 1 Axes>"
      ]
     },
     "metadata": {
      "needs_background": "light"
     },
     "output_type": "display_data"
    }
   ],
   "source": [
    "race_search.sort_values(ascending = False).plot(kind ='bar')"
   ]
  },
  {
   "cell_type": "markdown",
   "id": "f4aa4fce",
   "metadata": {},
   "source": [
    "### The White and the Blacks have the highest search conducted cases during police stoppage"
   ]
  },
  {
   "cell_type": "code",
   "execution_count": 40,
   "id": "b90d29f2",
   "metadata": {},
   "outputs": [
    {
     "data": {
      "text/html": [
       "<div>\n",
       "<style scoped>\n",
       "    .dataframe tbody tr th:only-of-type {\n",
       "        vertical-align: middle;\n",
       "    }\n",
       "\n",
       "    .dataframe tbody tr th {\n",
       "        vertical-align: top;\n",
       "    }\n",
       "\n",
       "    .dataframe thead th {\n",
       "        text-align: right;\n",
       "    }\n",
       "</style>\n",
       "<table border=\"1\" class=\"dataframe\">\n",
       "  <thead>\n",
       "    <tr style=\"text-align: right;\">\n",
       "      <th>driver_race</th>\n",
       "      <th>Asian</th>\n",
       "      <th>Black</th>\n",
       "      <th>Hispanic</th>\n",
       "      <th>Other</th>\n",
       "      <th>White</th>\n",
       "    </tr>\n",
       "    <tr>\n",
       "      <th>search_type</th>\n",
       "      <th></th>\n",
       "      <th></th>\n",
       "      <th></th>\n",
       "      <th></th>\n",
       "      <th></th>\n",
       "    </tr>\n",
       "  </thead>\n",
       "  <tbody>\n",
       "    <tr>\n",
       "      <th>Incident to Arrest</th>\n",
       "      <td>21</td>\n",
       "      <td>336</td>\n",
       "      <td>253</td>\n",
       "      <td>0</td>\n",
       "      <td>680</td>\n",
       "    </tr>\n",
       "    <tr>\n",
       "      <th>Incident to Arrest,Inventory</th>\n",
       "      <td>5</td>\n",
       "      <td>31</td>\n",
       "      <td>33</td>\n",
       "      <td>0</td>\n",
       "      <td>54</td>\n",
       "    </tr>\n",
       "    <tr>\n",
       "      <th>Incident to Arrest,Inventory,Probable Cause</th>\n",
       "      <td>0</td>\n",
       "      <td>5</td>\n",
       "      <td>6</td>\n",
       "      <td>0</td>\n",
       "      <td>24</td>\n",
       "    </tr>\n",
       "    <tr>\n",
       "      <th>Incident to Arrest,Inventory,Protective Frisk</th>\n",
       "      <td>0</td>\n",
       "      <td>3</td>\n",
       "      <td>3</td>\n",
       "      <td>0</td>\n",
       "      <td>12</td>\n",
       "    </tr>\n",
       "    <tr>\n",
       "      <th>Incident to Arrest,Inventory,Reasonable Suspicion</th>\n",
       "      <td>0</td>\n",
       "      <td>1</td>\n",
       "      <td>0</td>\n",
       "      <td>0</td>\n",
       "      <td>3</td>\n",
       "    </tr>\n",
       "  </tbody>\n",
       "</table>\n",
       "</div>"
      ],
      "text/plain": [
       "driver_race                                        Asian  Black  Hispanic  \\\n",
       "search_type                                                                 \n",
       "Incident to Arrest                                    21    336       253   \n",
       "Incident to Arrest,Inventory                           5     31        33   \n",
       "Incident to Arrest,Inventory,Probable Cause            0      5         6   \n",
       "Incident to Arrest,Inventory,Protective Frisk          0      3         3   \n",
       "Incident to Arrest,Inventory,Reasonable Suspicion      0      1         0   \n",
       "\n",
       "driver_race                                        Other  White  \n",
       "search_type                                                      \n",
       "Incident to Arrest                                     0    680  \n",
       "Incident to Arrest,Inventory                           0     54  \n",
       "Incident to Arrest,Inventory,Probable Cause            0     24  \n",
       "Incident to Arrest,Inventory,Protective Frisk          0     12  \n",
       "Incident to Arrest,Inventory,Reasonable Suspicion      0      3  "
      ]
     },
     "execution_count": 40,
     "metadata": {},
     "output_type": "execute_result"
    }
   ],
   "source": [
    "# relationship between search_type and driver's race\n",
    "pd.crosstab(df.search_type, df.driver_race).head()"
   ]
  },
  {
   "cell_type": "markdown",
   "id": "9e3cf341",
   "metadata": {},
   "source": [
    "### Incident to arrest is the highest search type across the different driver race"
   ]
  },
  {
   "cell_type": "code",
   "execution_count": 41,
   "id": "c09e7ec3",
   "metadata": {},
   "outputs": [
    {
     "data": {
      "text/plain": [
       "driver_race\n",
       "White       496\n",
       "Black       221\n",
       "Hispanic    131\n",
       "Asian        13\n",
       "Other         1\n",
       "Name: drugs_related_stop, dtype: int64"
      ]
     },
     "execution_count": 41,
     "metadata": {},
     "output_type": "execute_result"
    }
   ],
   "source": [
    "# relationship between the driver race and drug related stoppage \n",
    "race_drug_search = df.groupby('driver_race').drugs_related_stop.sum().sort_values(ascending = False)\n",
    "race_drug_search"
   ]
  },
  {
   "cell_type": "code",
   "execution_count": 42,
   "id": "dd9e8039",
   "metadata": {},
   "outputs": [
    {
     "data": {
      "text/plain": [
       "<AxesSubplot:xlabel='driver_race'>"
      ]
     },
     "execution_count": 42,
     "metadata": {},
     "output_type": "execute_result"
    },
    {
     "data": {
      "image/png": "[encoded data removed]",
      "text/plain": [
       "<Figure size 432x288 with 1 Axes>"
      ]
     },
     "metadata": {
      "needs_background": "light"
     },
     "output_type": "display_data"
    }
   ],
   "source": [
    "race_drug_search.plot(kind = 'bar')"
   ]
  },
  {
   "cell_type": "markdown",
   "id": "3a4e3670",
   "metadata": {},
   "source": [
    "### The White and the Black have the highest drug related searches"
   ]
  },
  {
   "cell_type": "code",
   "execution_count": 43,
   "id": "f0c67449",
   "metadata": {},
   "outputs": [
    {
     "data": {
      "text/html": [
       "<div>\n",
       "<style scoped>\n",
       "    .dataframe tbody tr th:only-of-type {\n",
       "        vertical-align: middle;\n",
       "    }\n",
       "\n",
       "    .dataframe tbody tr th {\n",
       "        vertical-align: top;\n",
       "    }\n",
       "\n",
       "    .dataframe thead th {\n",
       "        text-align: right;\n",
       "    }\n",
       "</style>\n",
       "<table border=\"1\" class=\"dataframe\">\n",
       "  <thead>\n",
       "    <tr style=\"text-align: right;\">\n",
       "      <th>is_arrested</th>\n",
       "      <th>False</th>\n",
       "      <th>True</th>\n",
       "    </tr>\n",
       "    <tr>\n",
       "      <th>driver_race</th>\n",
       "      <th></th>\n",
       "      <th></th>\n",
       "    </tr>\n",
       "  </thead>\n",
       "  <tbody>\n",
       "    <tr>\n",
       "      <th>Asian</th>\n",
       "      <td>0.980745</td>\n",
       "      <td>0.019255</td>\n",
       "    </tr>\n",
       "    <tr>\n",
       "      <th>Black</th>\n",
       "      <td>0.937403</td>\n",
       "      <td>0.062597</td>\n",
       "    </tr>\n",
       "    <tr>\n",
       "      <th>Hispanic</th>\n",
       "      <td>0.937802</td>\n",
       "      <td>0.062198</td>\n",
       "    </tr>\n",
       "    <tr>\n",
       "      <th>Other</th>\n",
       "      <td>0.992453</td>\n",
       "      <td>0.007547</td>\n",
       "    </tr>\n",
       "    <tr>\n",
       "      <th>White</th>\n",
       "      <td>0.973234</td>\n",
       "      <td>0.026766</td>\n",
       "    </tr>\n",
       "  </tbody>\n",
       "</table>\n",
       "</div>"
      ],
      "text/plain": [
       "is_arrested     False     True \n",
       "driver_race                    \n",
       "Asian        0.980745  0.019255\n",
       "Black        0.937403  0.062597\n",
       "Hispanic     0.937802  0.062198\n",
       "Other        0.992453  0.007547\n",
       "White        0.973234  0.026766"
      ]
     },
     "execution_count": 43,
     "metadata": {},
     "output_type": "execute_result"
    }
   ],
   "source": [
    "pd.crosstab(df.driver_race, df.is_arrested, normalize  = 'index')"
   ]
  },
  {
   "cell_type": "markdown",
   "id": "9de431d9",
   "metadata": {},
   "source": [
    "### About 6% of Blacks and Hispanics stopped by police were arrested. The highest across the driver race"
   ]
  },
  {
   "cell_type": "code",
   "execution_count": 116,
   "id": "18fcb468",
   "metadata": {},
   "outputs": [
    {
     "data": {
      "text/html": [
       "<div>\n",
       "<style scoped>\n",
       "    .dataframe tbody tr th:only-of-type {\n",
       "        vertical-align: middle;\n",
       "    }\n",
       "\n",
       "    .dataframe tbody tr th {\n",
       "        vertical-align: top;\n",
       "    }\n",
       "\n",
       "    .dataframe thead th {\n",
       "        text-align: right;\n",
       "    }\n",
       "</style>\n",
       "<table border=\"1\" class=\"dataframe\">\n",
       "  <thead>\n",
       "    <tr style=\"text-align: right;\">\n",
       "      <th>drugs_related_stop</th>\n",
       "      <th>False</th>\n",
       "      <th>True</th>\n",
       "    </tr>\n",
       "    <tr>\n",
       "      <th>driver_race</th>\n",
       "      <th></th>\n",
       "      <th></th>\n",
       "    </tr>\n",
       "  </thead>\n",
       "  <tbody>\n",
       "    <tr>\n",
       "      <th>Asian</th>\n",
       "      <td>0.994558</td>\n",
       "      <td>0.005442</td>\n",
       "    </tr>\n",
       "    <tr>\n",
       "      <th>Black</th>\n",
       "      <td>0.982011</td>\n",
       "      <td>0.017989</td>\n",
       "    </tr>\n",
       "    <tr>\n",
       "      <th>Hispanic</th>\n",
       "      <td>0.986532</td>\n",
       "      <td>0.013468</td>\n",
       "    </tr>\n",
       "    <tr>\n",
       "      <th>Other</th>\n",
       "      <td>0.996226</td>\n",
       "      <td>0.003774</td>\n",
       "    </tr>\n",
       "    <tr>\n",
       "      <th>White</th>\n",
       "      <td>0.991983</td>\n",
       "      <td>0.008017</td>\n",
       "    </tr>\n",
       "  </tbody>\n",
       "</table>\n",
       "</div>"
      ],
      "text/plain": [
       "drugs_related_stop     False     True \n",
       "driver_race                           \n",
       "Asian               0.994558  0.005442\n",
       "Black               0.982011  0.017989\n",
       "Hispanic            0.986532  0.013468\n",
       "Other               0.996226  0.003774\n",
       "White               0.991983  0.008017"
      ]
     },
     "execution_count": 116,
     "metadata": {},
     "output_type": "execute_result"
    }
   ],
   "source": [
    "pd.crosstab(df.driver_race, df.drugs_related_stop, normalize = 'index')"
   ]
  },
  {
   "cell_type": "markdown",
   "id": "72f9b2d7",
   "metadata": {},
   "source": [
    "### About 2% of the blacks and Hispanics stopped were for drug related issues. The highest across the driver races"
   ]
  },
  {
   "cell_type": "code",
   "execution_count": 45,
   "id": "dcbc3cd0",
   "metadata": {},
   "outputs": [
    {
     "data": {
      "text/html": [
       "<div>\n",
       "<style scoped>\n",
       "    .dataframe tbody tr th:only-of-type {\n",
       "        vertical-align: middle;\n",
       "    }\n",
       "\n",
       "    .dataframe tbody tr th {\n",
       "        vertical-align: top;\n",
       "    }\n",
       "\n",
       "    .dataframe thead th {\n",
       "        text-align: right;\n",
       "    }\n",
       "</style>\n",
       "<table border=\"1\" class=\"dataframe\">\n",
       "  <thead>\n",
       "    <tr style=\"text-align: right;\">\n",
       "      <th></th>\n",
       "      <th>driver_gender</th>\n",
       "      <th>driver_race</th>\n",
       "      <th>violation_raw</th>\n",
       "      <th>violation</th>\n",
       "      <th>search_conducted</th>\n",
       "      <th>search_type</th>\n",
       "      <th>stop_outcome</th>\n",
       "      <th>is_arrested</th>\n",
       "      <th>stop_duration</th>\n",
       "      <th>drugs_related_stop</th>\n",
       "      <th>district</th>\n",
       "    </tr>\n",
       "    <tr>\n",
       "      <th>stop_datetime</th>\n",
       "      <th></th>\n",
       "      <th></th>\n",
       "      <th></th>\n",
       "      <th></th>\n",
       "      <th></th>\n",
       "      <th></th>\n",
       "      <th></th>\n",
       "      <th></th>\n",
       "      <th></th>\n",
       "      <th></th>\n",
       "      <th></th>\n",
       "    </tr>\n",
       "  </thead>\n",
       "  <tbody>\n",
       "    <tr>\n",
       "      <th>2005-01-04 12:55:00</th>\n",
       "      <td>M</td>\n",
       "      <td>White</td>\n",
       "      <td>Equipment/Inspection Violation</td>\n",
       "      <td>Equipment</td>\n",
       "      <td>False</td>\n",
       "      <td>NaN</td>\n",
       "      <td>Citation</td>\n",
       "      <td>False</td>\n",
       "      <td>0-15 Min</td>\n",
       "      <td>False</td>\n",
       "      <td>Zone X4</td>\n",
       "    </tr>\n",
       "    <tr>\n",
       "      <th>2005-01-23 23:15:00</th>\n",
       "      <td>M</td>\n",
       "      <td>White</td>\n",
       "      <td>Speeding</td>\n",
       "      <td>Speeding</td>\n",
       "      <td>False</td>\n",
       "      <td>NaN</td>\n",
       "      <td>Citation</td>\n",
       "      <td>False</td>\n",
       "      <td>0-15 Min</td>\n",
       "      <td>False</td>\n",
       "      <td>Zone K3</td>\n",
       "    </tr>\n",
       "    <tr>\n",
       "      <th>2005-02-17 04:15:00</th>\n",
       "      <td>M</td>\n",
       "      <td>White</td>\n",
       "      <td>Speeding</td>\n",
       "      <td>Speeding</td>\n",
       "      <td>False</td>\n",
       "      <td>NaN</td>\n",
       "      <td>Citation</td>\n",
       "      <td>False</td>\n",
       "      <td>0-15 Min</td>\n",
       "      <td>False</td>\n",
       "      <td>Zone X4</td>\n",
       "    </tr>\n",
       "    <tr>\n",
       "      <th>2005-02-20 17:15:00</th>\n",
       "      <td>M</td>\n",
       "      <td>White</td>\n",
       "      <td>Call for Service</td>\n",
       "      <td>Other</td>\n",
       "      <td>False</td>\n",
       "      <td>NaN</td>\n",
       "      <td>Arrest Driver</td>\n",
       "      <td>True</td>\n",
       "      <td>16-30 Min</td>\n",
       "      <td>False</td>\n",
       "      <td>Zone X1</td>\n",
       "    </tr>\n",
       "    <tr>\n",
       "      <th>2005-02-24 01:20:00</th>\n",
       "      <td>F</td>\n",
       "      <td>White</td>\n",
       "      <td>Speeding</td>\n",
       "      <td>Speeding</td>\n",
       "      <td>False</td>\n",
       "      <td>NaN</td>\n",
       "      <td>Citation</td>\n",
       "      <td>False</td>\n",
       "      <td>0-15 Min</td>\n",
       "      <td>False</td>\n",
       "      <td>Zone X3</td>\n",
       "    </tr>\n",
       "  </tbody>\n",
       "</table>\n",
       "</div>"
      ],
      "text/plain": [
       "                    driver_gender driver_race                   violation_raw  \\\n",
       "stop_datetime                                                                   \n",
       "2005-01-04 12:55:00             M       White  Equipment/Inspection Violation   \n",
       "2005-01-23 23:15:00             M       White                        Speeding   \n",
       "2005-02-17 04:15:00             M       White                        Speeding   \n",
       "2005-02-20 17:15:00             M       White                Call for Service   \n",
       "2005-02-24 01:20:00             F       White                        Speeding   \n",
       "\n",
       "                     violation  search_conducted search_type   stop_outcome  \\\n",
       "stop_datetime                                                                 \n",
       "2005-01-04 12:55:00  Equipment             False         NaN       Citation   \n",
       "2005-01-23 23:15:00   Speeding             False         NaN       Citation   \n",
       "2005-02-17 04:15:00   Speeding             False         NaN       Citation   \n",
       "2005-02-20 17:15:00      Other             False         NaN  Arrest Driver   \n",
       "2005-02-24 01:20:00   Speeding             False         NaN       Citation   \n",
       "\n",
       "                     is_arrested stop_duration  drugs_related_stop district  \n",
       "stop_datetime                                                                \n",
       "2005-01-04 12:55:00        False      0-15 Min               False  Zone X4  \n",
       "2005-01-23 23:15:00        False      0-15 Min               False  Zone K3  \n",
       "2005-02-17 04:15:00        False      0-15 Min               False  Zone X4  \n",
       "2005-02-20 17:15:00         True     16-30 Min               False  Zone X1  \n",
       "2005-02-24 01:20:00        False      0-15 Min               False  Zone X3  "
      ]
     },
     "execution_count": 45,
     "metadata": {},
     "output_type": "execute_result"
    }
   ],
   "source": [
    "df.head()"
   ]
  },
  {
   "cell_type": "markdown",
   "id": "618615d8",
   "metadata": {},
   "source": [
    "# Stop date and time"
   ]
  },
  {
   "cell_type": "code",
   "execution_count": 46,
   "id": "1208e043",
   "metadata": {},
   "outputs": [
    {
     "data": {
      "text/plain": [
       "stop_datetime\n",
       "0     248\n",
       "1     262\n",
       "2     163\n",
       "3      64\n",
       "4      12\n",
       "5       8\n",
       "6      43\n",
       "7      57\n",
       "8     108\n",
       "9     162\n",
       "10    200\n",
       "11    165\n",
       "12    130\n",
       "13    140\n",
       "14    163\n",
       "15    146\n",
       "16    125\n",
       "17    105\n",
       "18     80\n",
       "19     79\n",
       "20    120\n",
       "21     85\n",
       "22    166\n",
       "23    247\n",
       "Name: is_arrested, dtype: int64"
      ]
     },
     "execution_count": 46,
     "metadata": {},
     "output_type": "execute_result"
    }
   ],
   "source": [
    "is_arrested_hour = df.groupby(df.index.hour).is_arrested.sum()\n",
    "is_arrested_hour"
   ]
  },
  {
   "cell_type": "code",
   "execution_count": 47,
   "id": "012f8692",
   "metadata": {},
   "outputs": [
    {
     "data": {
      "text/plain": [
       "<AxesSubplot:xlabel='stop_datetime'>"
      ]
     },
     "execution_count": 47,
     "metadata": {},
     "output_type": "execute_result"
    },
    {
     "data": {
      "image/png": "[encoded data removed]",
      "text/plain": [
       "<Figure size 864x432 with 1 Axes>"
      ]
     },
     "metadata": {
      "needs_background": "light"
     },
     "output_type": "display_data"
    }
   ],
   "source": [
    "plt.figure(figsize = (12, 6))\n",
    "is_arrested_hour.plot()"
   ]
  },
  {
   "cell_type": "markdown",
   "id": "2ca58a39",
   "metadata": {},
   "source": [
    "### The arrest begins to decline at 1 a.m. midnight and rose again by 6 a.m. in the morning"
   ]
  },
  {
   "cell_type": "code",
   "execution_count": 48,
   "id": "b8d572fe",
   "metadata": {},
   "outputs": [
    {
     "data": {
      "text/plain": [
       "stop_datetime\n",
       "1     304\n",
       "2     233\n",
       "3     270\n",
       "4     236\n",
       "5     268\n",
       "6     219\n",
       "7     274\n",
       "8     262\n",
       "9     220\n",
       "10    265\n",
       "11    251\n",
       "12    276\n",
       "Name: is_arrested, dtype: int64"
      ]
     },
     "execution_count": 48,
     "metadata": {},
     "output_type": "execute_result"
    }
   ],
   "source": [
    "is_arrested_month = df.groupby(df.index.month).is_arrested.sum()\n",
    "is_arrested_month"
   ]
  },
  {
   "cell_type": "code",
   "execution_count": 117,
   "id": "9e3e8d5c",
   "metadata": {},
   "outputs": [
    {
     "data": {
      "text/plain": [
       "<AxesSubplot:title={'center':'Monthly Arrest'}, xlabel='Month of Arrest', ylabel='Frequency'>"
      ]
     },
     "execution_count": 117,
     "metadata": {},
     "output_type": "execute_result"
    },
    {
     "data": {
      "image/png": "[encoded data removed]",
      "text/plain": [
       "<Figure size 864x432 with 1 Axes>"
      ]
     },
     "metadata": {
      "needs_background": "light"
     },
     "output_type": "display_data"
    }
   ],
   "source": [
    "plt.figure(figsize = (12, 6))\n",
    "is_arrested_month.plot(title = 'Monthly Arrest', xlabel = 'Month of Arrest', ylabel = 'Frequency')"
   ]
  },
  {
   "cell_type": "markdown",
   "id": "eba58e62",
   "metadata": {},
   "source": [
    "### More arrest are made in January compared to the rest month. June and September have the lowest number of arrest"
   ]
  },
  {
   "cell_type": "code",
   "execution_count": 50,
   "id": "88501659",
   "metadata": {},
   "outputs": [
    {
     "data": {
      "text/plain": [
       "stop_datetime\n",
       "2005    161\n",
       "2006    459\n",
       "2007    302\n",
       "2008    239\n",
       "2009    281\n",
       "2010    278\n",
       "2011    283\n",
       "2012    348\n",
       "2013    225\n",
       "2014    253\n",
       "2015    249\n",
       "Name: is_arrested, dtype: int64"
      ]
     },
     "execution_count": 50,
     "metadata": {},
     "output_type": "execute_result"
    }
   ],
   "source": [
    "is_arrested_year = df.groupby(df.index.year).is_arrested.sum()\n",
    "is_arrested_year"
   ]
  },
  {
   "cell_type": "code",
   "execution_count": 118,
   "id": "e2810239",
   "metadata": {},
   "outputs": [
    {
     "data": {
      "text/plain": [
       "<AxesSubplot:title={'center':'Yearly Arrest'}, xlabel='Year of Arrest', ylabel='Frequency'>"
      ]
     },
     "execution_count": 118,
     "metadata": {},
     "output_type": "execute_result"
    },
    {
     "data": {
      "image/png": "[encoded data removed]",
      "text/plain": [
       "<Figure size 864x432 with 1 Axes>"
      ]
     },
     "metadata": {
      "needs_background": "light"
     },
     "output_type": "display_data"
    }
   ],
   "source": [
    "plt.figure(figsize = (12, 6))\n",
    "is_arrested_year.plot(title = 'Yearly Arrest', xlabel = 'Year of Arrest', ylabel = 'Frequency')"
   ]
  },
  {
   "cell_type": "markdown",
   "id": "7378d76c",
   "metadata": {},
   "source": [
    "### Police arrest have reduced over the years since it peak at 2006"
   ]
  },
  {
   "cell_type": "code",
   "execution_count": 52,
   "id": "49624204",
   "metadata": {},
   "outputs": [
    {
     "data": {
      "text/plain": [
       "stop_datetime\n",
       "0     100\n",
       "1      79\n",
       "2      52\n",
       "3      21\n",
       "4       5\n",
       "5       2\n",
       "6       6\n",
       "7      12\n",
       "8      21\n",
       "9      36\n",
       "10     58\n",
       "11     45\n",
       "12     19\n",
       "13     40\n",
       "14     45\n",
       "15     36\n",
       "16     24\n",
       "17     26\n",
       "18     21\n",
       "19     18\n",
       "20     38\n",
       "21     17\n",
       "22     60\n",
       "23     81\n",
       "Name: drugs_related_stop, dtype: int64"
      ]
     },
     "execution_count": 52,
     "metadata": {},
     "output_type": "execute_result"
    }
   ],
   "source": [
    "drug_stop_hour = df.groupby(df.index.hour).drugs_related_stop.sum()\n",
    "drug_stop_hour"
   ]
  },
  {
   "cell_type": "code",
   "execution_count": 120,
   "id": "568553ca",
   "metadata": {},
   "outputs": [
    {
     "data": {
      "text/plain": [
       "<AxesSubplot:title={'center':'Drug stop Hour'}, xlabel='Hour', ylabel='Frequency'>"
      ]
     },
     "execution_count": 120,
     "metadata": {},
     "output_type": "execute_result"
    },
    {
     "data": {
      "image/png": "[encoded data removed]",
      "text/plain": [
       "<Figure size 864x432 with 1 Axes>"
      ]
     },
     "metadata": {
      "needs_background": "light"
     },
     "output_type": "display_data"
    }
   ],
   "source": [
    "plt.figure(figsize = (12, 6))\n",
    "drug_stop_hour.plot(kind = 'bar', title = 'Drug stop Hour', xlabel = 'Hour', ylabel = 'Frequency')"
   ]
  },
  {
   "cell_type": "markdown",
   "id": "d5d95ec8",
   "metadata": {},
   "source": [
    "### Drug related stop occur mostly in evening through early morning"
   ]
  },
  {
   "cell_type": "code",
   "execution_count": 121,
   "id": "189f7bc5",
   "metadata": {},
   "outputs": [
    {
     "data": {
      "text/plain": [
       "stop_datetime\n",
       "1     30\n",
       "2     35\n",
       "3     30\n",
       "4     34\n",
       "5     30\n",
       "6     28\n",
       "7     40\n",
       "8     22\n",
       "9     29\n",
       "10    23\n",
       "11    30\n",
       "12    24\n",
       "13    33\n",
       "14    32\n",
       "15    26\n",
       "16    27\n",
       "17    22\n",
       "18    20\n",
       "19    26\n",
       "20    27\n",
       "21    31\n",
       "22    24\n",
       "23    31\n",
       "24    21\n",
       "25    33\n",
       "26    28\n",
       "27    31\n",
       "28    21\n",
       "29    27\n",
       "30    31\n",
       "31    16\n",
       "Name: drugs_related_stop, dtype: int64"
      ]
     },
     "execution_count": 121,
     "metadata": {},
     "output_type": "execute_result"
    }
   ],
   "source": [
    "drug_stop_day = df.groupby(df.index.day).drugs_related_stop.sum()\n",
    "drug_stop_day"
   ]
  },
  {
   "cell_type": "code",
   "execution_count": 126,
   "id": "f3401b97",
   "metadata": {},
   "outputs": [
    {
     "data": {
      "text/plain": [
       "<AxesSubplot:title={'center':'Drug stop Hour'}, xlabel='Hour', ylabel='Frequency'>"
      ]
     },
     "execution_count": 126,
     "metadata": {},
     "output_type": "execute_result"
    },
    {
     "data": {
      "image/png": "[encoded data removed]",
      "text/plain": [
       "<Figure size 864x432 with 1 Axes>"
      ]
     },
     "metadata": {
      "needs_background": "light"
     },
     "output_type": "display_data"
    }
   ],
   "source": [
    "plt.figure(figsize = (12, 6))\n",
    "drug_stop_day.plot(kind = 'bar', title = 'Drug stop Hour', xlabel = 'Hour', ylabel = 'Frequency')"
   ]
  },
  {
   "cell_type": "code",
   "execution_count": 54,
   "id": "34a601b6",
   "metadata": {},
   "outputs": [
    {
     "data": {
      "text/plain": [
       "stop_datetime\n",
       "1      78\n",
       "2      56\n",
       "3      79\n",
       "4      77\n",
       "5      79\n",
       "6      72\n",
       "7     100\n",
       "8      68\n",
       "9      64\n",
       "10     74\n",
       "11     54\n",
       "12     61\n",
       "Name: drugs_related_stop, dtype: int64"
      ]
     },
     "execution_count": 54,
     "metadata": {},
     "output_type": "execute_result"
    }
   ],
   "source": [
    "drug_stop_month = df.groupby(df.index.month).drugs_related_stop.sum()\n",
    "drug_stop_month"
   ]
  },
  {
   "cell_type": "code",
   "execution_count": 127,
   "id": "911cd6df",
   "metadata": {},
   "outputs": [
    {
     "data": {
      "text/plain": [
       "<AxesSubplot:xlabel='stop_datetime'>"
      ]
     },
     "execution_count": 127,
     "metadata": {},
     "output_type": "execute_result"
    },
    {
     "data": {
      "image/png": "[encoded data removed]",
      "text/plain": [
       "<Figure size 864x432 with 1 Axes>"
      ]
     },
     "metadata": {
      "needs_background": "light"
     },
     "output_type": "display_data"
    }
   ],
   "source": [
    "plt.figure(figsize = (12, 6))\n",
    "drug_stop_month.plot(kind = 'bar')"
   ]
  },
  {
   "cell_type": "markdown",
   "id": "fccecf1e",
   "metadata": {},
   "source": [
    "### August have the highest number of drug related stop"
   ]
  },
  {
   "cell_type": "code",
   "execution_count": 56,
   "id": "be2a9f15",
   "metadata": {},
   "outputs": [
    {
     "data": {
      "text/plain": [
       "stop_datetime\n",
       "2005     16\n",
       "2006     73\n",
       "2007     72\n",
       "2008     62\n",
       "2009     71\n",
       "2010     72\n",
       "2011     75\n",
       "2012    103\n",
       "2013     99\n",
       "2014    120\n",
       "2015     99\n",
       "Name: drugs_related_stop, dtype: int64"
      ]
     },
     "execution_count": 56,
     "metadata": {},
     "output_type": "execute_result"
    }
   ],
   "source": [
    "drug_stop_year = df.groupby(df.index.year).drugs_related_stop.sum()\n",
    "drug_stop_year"
   ]
  },
  {
   "cell_type": "code",
   "execution_count": 57,
   "id": "bf115e6b",
   "metadata": {},
   "outputs": [
    {
     "data": {
      "text/plain": [
       "<AxesSubplot:xlabel='stop_datetime'>"
      ]
     },
     "execution_count": 57,
     "metadata": {},
     "output_type": "execute_result"
    },
    {
     "data": {
      "image/png": "[encoded data removed]",
      "text/plain": [
       "<Figure size 864x432 with 1 Axes>"
      ]
     },
     "metadata": {
      "needs_background": "light"
     },
     "output_type": "display_data"
    }
   ],
   "source": [
    "plt.figure(figsize = (12, 6))\n",
    "drug_stop_year.plot()"
   ]
  },
  {
   "cell_type": "markdown",
   "id": "42b45207",
   "metadata": {},
   "source": [
    "### Drug related stop have increased over the years"
   ]
  },
  {
   "cell_type": "code",
   "execution_count": 58,
   "id": "783ef2db",
   "metadata": {},
   "outputs": [
    {
     "data": {
      "text/plain": [
       "False    0.961785\n",
       "True     0.038215\n",
       "Name: search_conducted, dtype: float64"
      ]
     },
     "execution_count": 58,
     "metadata": {},
     "output_type": "execute_result"
    }
   ],
   "source": [
    "# search conducted proportion \n",
    "df.search_conducted.value_counts(normalize = True)"
   ]
  },
  {
   "cell_type": "markdown",
   "id": "e2061a59",
   "metadata": {},
   "source": [
    "### Search are conducted on about 4% of the people stopped"
   ]
  },
  {
   "cell_type": "code",
   "execution_count": 59,
   "id": "884abe53",
   "metadata": {},
   "outputs": [
    {
     "data": {
      "text/html": [
       "<div>\n",
       "<style scoped>\n",
       "    .dataframe tbody tr th:only-of-type {\n",
       "        vertical-align: middle;\n",
       "    }\n",
       "\n",
       "    .dataframe tbody tr th {\n",
       "        vertical-align: top;\n",
       "    }\n",
       "\n",
       "    .dataframe thead th {\n",
       "        text-align: right;\n",
       "    }\n",
       "</style>\n",
       "<table border=\"1\" class=\"dataframe\">\n",
       "  <thead>\n",
       "    <tr style=\"text-align: right;\">\n",
       "      <th>is_arrested</th>\n",
       "      <th>False</th>\n",
       "      <th>True</th>\n",
       "    </tr>\n",
       "    <tr>\n",
       "      <th>search_conducted</th>\n",
       "      <th></th>\n",
       "      <th></th>\n",
       "    </tr>\n",
       "  </thead>\n",
       "  <tbody>\n",
       "    <tr>\n",
       "      <th>False</th>\n",
       "      <td>0.976703</td>\n",
       "      <td>0.023297</td>\n",
       "    </tr>\n",
       "    <tr>\n",
       "      <th>True</th>\n",
       "      <td>0.655579</td>\n",
       "      <td>0.344421</td>\n",
       "    </tr>\n",
       "  </tbody>\n",
       "</table>\n",
       "</div>"
      ],
      "text/plain": [
       "is_arrested          False     True \n",
       "search_conducted                    \n",
       "False             0.976703  0.023297\n",
       "True              0.655579  0.344421"
      ]
     },
     "execution_count": 59,
     "metadata": {},
     "output_type": "execute_result"
    }
   ],
   "source": [
    "pd.crosstab(df.search_conducted, df.is_arrested, normalize = 'index')"
   ]
  },
  {
   "cell_type": "markdown",
   "id": "96053a4d",
   "metadata": {},
   "source": [
    "### 34% of the people searched were later arrested. 2.3% of people not searched were arrested. The chances of getting arrested if not search is low"
   ]
  },
  {
   "cell_type": "code",
   "execution_count": 60,
   "id": "cb53cc3c",
   "metadata": {},
   "outputs": [
    {
     "data": {
      "text/html": [
       "<div>\n",
       "<style scoped>\n",
       "    .dataframe tbody tr th:only-of-type {\n",
       "        vertical-align: middle;\n",
       "    }\n",
       "\n",
       "    .dataframe tbody tr th {\n",
       "        vertical-align: top;\n",
       "    }\n",
       "\n",
       "    .dataframe thead th {\n",
       "        text-align: right;\n",
       "    }\n",
       "</style>\n",
       "<table border=\"1\" class=\"dataframe\">\n",
       "  <thead>\n",
       "    <tr style=\"text-align: right;\">\n",
       "      <th>drugs_related_stop</th>\n",
       "      <th>False</th>\n",
       "      <th>True</th>\n",
       "    </tr>\n",
       "    <tr>\n",
       "      <th>search_conducted</th>\n",
       "      <th></th>\n",
       "      <th></th>\n",
       "    </tr>\n",
       "  </thead>\n",
       "  <tbody>\n",
       "    <tr>\n",
       "      <th>False</th>\n",
       "      <td>1.000000</td>\n",
       "      <td>0.000000</td>\n",
       "    </tr>\n",
       "    <tr>\n",
       "      <th>True</th>\n",
       "      <td>0.739341</td>\n",
       "      <td>0.260659</td>\n",
       "    </tr>\n",
       "  </tbody>\n",
       "</table>\n",
       "</div>"
      ],
      "text/plain": [
       "drugs_related_stop     False     True \n",
       "search_conducted                      \n",
       "False               1.000000  0.000000\n",
       "True                0.739341  0.260659"
      ]
     },
     "execution_count": 60,
     "metadata": {},
     "output_type": "execute_result"
    }
   ],
   "source": [
    "pd.crosstab(df.search_conducted, df.drugs_related_stop, normalize = 'index')"
   ]
  },
  {
   "cell_type": "markdown",
   "id": "ba141d87",
   "metadata": {},
   "source": [
    "### 26% of the search conducted are drug related"
   ]
  },
  {
   "cell_type": "code",
   "execution_count": 61,
   "id": "b277b073",
   "metadata": {},
   "outputs": [
    {
     "data": {
      "text/html": [
       "<div>\n",
       "<style scoped>\n",
       "    .dataframe tbody tr th:only-of-type {\n",
       "        vertical-align: middle;\n",
       "    }\n",
       "\n",
       "    .dataframe tbody tr th {\n",
       "        vertical-align: top;\n",
       "    }\n",
       "\n",
       "    .dataframe thead th {\n",
       "        text-align: right;\n",
       "    }\n",
       "</style>\n",
       "<table border=\"1\" class=\"dataframe\">\n",
       "  <thead>\n",
       "    <tr style=\"text-align: right;\">\n",
       "      <th>drugs_related_stop</th>\n",
       "      <th>False</th>\n",
       "      <th>True</th>\n",
       "    </tr>\n",
       "    <tr>\n",
       "      <th>is_arrested</th>\n",
       "      <th></th>\n",
       "      <th></th>\n",
       "    </tr>\n",
       "  </thead>\n",
       "  <tbody>\n",
       "    <tr>\n",
       "      <th>False</th>\n",
       "      <td>0.992463</td>\n",
       "      <td>0.007537</td>\n",
       "    </tr>\n",
       "    <tr>\n",
       "      <th>True</th>\n",
       "      <td>0.924301</td>\n",
       "      <td>0.075699</td>\n",
       "    </tr>\n",
       "  </tbody>\n",
       "</table>\n",
       "</div>"
      ],
      "text/plain": [
       "drugs_related_stop     False     True \n",
       "is_arrested                           \n",
       "False               0.992463  0.007537\n",
       "True                0.924301  0.075699"
      ]
     },
     "execution_count": 61,
     "metadata": {},
     "output_type": "execute_result"
    }
   ],
   "source": [
    "pd.crosstab(df.is_arrested, df.drugs_related_stop, normalize = 'index')"
   ]
  },
  {
   "cell_type": "markdown",
   "id": "f2844425",
   "metadata": {},
   "source": [
    "### 7% of the arrest made were drug related"
   ]
  },
  {
   "cell_type": "code",
   "execution_count": 62,
   "id": "732c24d7",
   "metadata": {},
   "outputs": [],
   "source": [
    "data = df.copy"
   ]
  },
  {
   "cell_type": "code",
   "execution_count": 63,
   "id": "ecdf721c",
   "metadata": {},
   "outputs": [],
   "source": [
    "# an average of the stop duration\n",
    "mapping = {'0-15 Min':8, '16-30 Min': 22, '30+ Min': 45}"
   ]
  },
  {
   "cell_type": "code",
   "execution_count": 64,
   "id": "92d2dc44",
   "metadata": {},
   "outputs": [
    {
     "data": {
      "text/html": [
       "<div>\n",
       "<style scoped>\n",
       "    .dataframe tbody tr th:only-of-type {\n",
       "        vertical-align: middle;\n",
       "    }\n",
       "\n",
       "    .dataframe tbody tr th {\n",
       "        vertical-align: top;\n",
       "    }\n",
       "\n",
       "    .dataframe thead th {\n",
       "        text-align: right;\n",
       "    }\n",
       "</style>\n",
       "<table border=\"1\" class=\"dataframe\">\n",
       "  <thead>\n",
       "    <tr style=\"text-align: right;\">\n",
       "      <th></th>\n",
       "      <th>driver_gender</th>\n",
       "      <th>driver_race</th>\n",
       "      <th>violation_raw</th>\n",
       "      <th>violation</th>\n",
       "      <th>search_conducted</th>\n",
       "      <th>search_type</th>\n",
       "      <th>stop_outcome</th>\n",
       "      <th>is_arrested</th>\n",
       "      <th>stop_duration</th>\n",
       "      <th>drugs_related_stop</th>\n",
       "      <th>district</th>\n",
       "    </tr>\n",
       "    <tr>\n",
       "      <th>stop_datetime</th>\n",
       "      <th></th>\n",
       "      <th></th>\n",
       "      <th></th>\n",
       "      <th></th>\n",
       "      <th></th>\n",
       "      <th></th>\n",
       "      <th></th>\n",
       "      <th></th>\n",
       "      <th></th>\n",
       "      <th></th>\n",
       "      <th></th>\n",
       "    </tr>\n",
       "  </thead>\n",
       "  <tbody>\n",
       "    <tr>\n",
       "      <th>2005-01-04 12:55:00</th>\n",
       "      <td>M</td>\n",
       "      <td>White</td>\n",
       "      <td>Equipment/Inspection Violation</td>\n",
       "      <td>Equipment</td>\n",
       "      <td>False</td>\n",
       "      <td>NaN</td>\n",
       "      <td>Citation</td>\n",
       "      <td>False</td>\n",
       "      <td>0-15 Min</td>\n",
       "      <td>False</td>\n",
       "      <td>Zone X4</td>\n",
       "    </tr>\n",
       "    <tr>\n",
       "      <th>2005-01-23 23:15:00</th>\n",
       "      <td>M</td>\n",
       "      <td>White</td>\n",
       "      <td>Speeding</td>\n",
       "      <td>Speeding</td>\n",
       "      <td>False</td>\n",
       "      <td>NaN</td>\n",
       "      <td>Citation</td>\n",
       "      <td>False</td>\n",
       "      <td>0-15 Min</td>\n",
       "      <td>False</td>\n",
       "      <td>Zone K3</td>\n",
       "    </tr>\n",
       "    <tr>\n",
       "      <th>2005-02-17 04:15:00</th>\n",
       "      <td>M</td>\n",
       "      <td>White</td>\n",
       "      <td>Speeding</td>\n",
       "      <td>Speeding</td>\n",
       "      <td>False</td>\n",
       "      <td>NaN</td>\n",
       "      <td>Citation</td>\n",
       "      <td>False</td>\n",
       "      <td>0-15 Min</td>\n",
       "      <td>False</td>\n",
       "      <td>Zone X4</td>\n",
       "    </tr>\n",
       "    <tr>\n",
       "      <th>2005-02-20 17:15:00</th>\n",
       "      <td>M</td>\n",
       "      <td>White</td>\n",
       "      <td>Call for Service</td>\n",
       "      <td>Other</td>\n",
       "      <td>False</td>\n",
       "      <td>NaN</td>\n",
       "      <td>Arrest Driver</td>\n",
       "      <td>True</td>\n",
       "      <td>16-30 Min</td>\n",
       "      <td>False</td>\n",
       "      <td>Zone X1</td>\n",
       "    </tr>\n",
       "    <tr>\n",
       "      <th>2005-02-24 01:20:00</th>\n",
       "      <td>F</td>\n",
       "      <td>White</td>\n",
       "      <td>Speeding</td>\n",
       "      <td>Speeding</td>\n",
       "      <td>False</td>\n",
       "      <td>NaN</td>\n",
       "      <td>Citation</td>\n",
       "      <td>False</td>\n",
       "      <td>0-15 Min</td>\n",
       "      <td>False</td>\n",
       "      <td>Zone X3</td>\n",
       "    </tr>\n",
       "  </tbody>\n",
       "</table>\n",
       "</div>"
      ],
      "text/plain": [
       "                    driver_gender driver_race                   violation_raw  \\\n",
       "stop_datetime                                                                   \n",
       "2005-01-04 12:55:00             M       White  Equipment/Inspection Violation   \n",
       "2005-01-23 23:15:00             M       White                        Speeding   \n",
       "2005-02-17 04:15:00             M       White                        Speeding   \n",
       "2005-02-20 17:15:00             M       White                Call for Service   \n",
       "2005-02-24 01:20:00             F       White                        Speeding   \n",
       "\n",
       "                     violation  search_conducted search_type   stop_outcome  \\\n",
       "stop_datetime                                                                 \n",
       "2005-01-04 12:55:00  Equipment             False         NaN       Citation   \n",
       "2005-01-23 23:15:00   Speeding             False         NaN       Citation   \n",
       "2005-02-17 04:15:00   Speeding             False         NaN       Citation   \n",
       "2005-02-20 17:15:00      Other             False         NaN  Arrest Driver   \n",
       "2005-02-24 01:20:00   Speeding             False         NaN       Citation   \n",
       "\n",
       "                     is_arrested stop_duration  drugs_related_stop district  \n",
       "stop_datetime                                                                \n",
       "2005-01-04 12:55:00        False      0-15 Min               False  Zone X4  \n",
       "2005-01-23 23:15:00        False      0-15 Min               False  Zone K3  \n",
       "2005-02-17 04:15:00        False      0-15 Min               False  Zone X4  \n",
       "2005-02-20 17:15:00         True     16-30 Min               False  Zone X1  \n",
       "2005-02-24 01:20:00        False      0-15 Min               False  Zone X3  "
      ]
     },
     "execution_count": 64,
     "metadata": {},
     "output_type": "execute_result"
    }
   ],
   "source": [
    "df.head()"
   ]
  },
  {
   "cell_type": "code",
   "execution_count": 65,
   "id": "fd422c79",
   "metadata": {},
   "outputs": [],
   "source": [
    "df['stopDuration'] = df['stop_duration'].map(mapping)"
   ]
  },
  {
   "cell_type": "code",
   "execution_count": 66,
   "id": "1768f558",
   "metadata": {},
   "outputs": [
    {
     "data": {
      "text/html": [
       "<div>\n",
       "<style scoped>\n",
       "    .dataframe tbody tr th:only-of-type {\n",
       "        vertical-align: middle;\n",
       "    }\n",
       "\n",
       "    .dataframe tbody tr th {\n",
       "        vertical-align: top;\n",
       "    }\n",
       "\n",
       "    .dataframe thead th {\n",
       "        text-align: right;\n",
       "    }\n",
       "</style>\n",
       "<table border=\"1\" class=\"dataframe\">\n",
       "  <thead>\n",
       "    <tr style=\"text-align: right;\">\n",
       "      <th></th>\n",
       "      <th>driver_gender</th>\n",
       "      <th>driver_race</th>\n",
       "      <th>violation_raw</th>\n",
       "      <th>violation</th>\n",
       "      <th>search_conducted</th>\n",
       "      <th>search_type</th>\n",
       "      <th>stop_outcome</th>\n",
       "      <th>is_arrested</th>\n",
       "      <th>stop_duration</th>\n",
       "      <th>drugs_related_stop</th>\n",
       "      <th>district</th>\n",
       "      <th>stopDuration</th>\n",
       "    </tr>\n",
       "    <tr>\n",
       "      <th>stop_datetime</th>\n",
       "      <th></th>\n",
       "      <th></th>\n",
       "      <th></th>\n",
       "      <th></th>\n",
       "      <th></th>\n",
       "      <th></th>\n",
       "      <th></th>\n",
       "      <th></th>\n",
       "      <th></th>\n",
       "      <th></th>\n",
       "      <th></th>\n",
       "      <th></th>\n",
       "    </tr>\n",
       "  </thead>\n",
       "  <tbody>\n",
       "    <tr>\n",
       "      <th>2005-01-04 12:55:00</th>\n",
       "      <td>M</td>\n",
       "      <td>White</td>\n",
       "      <td>Equipment/Inspection Violation</td>\n",
       "      <td>Equipment</td>\n",
       "      <td>False</td>\n",
       "      <td>NaN</td>\n",
       "      <td>Citation</td>\n",
       "      <td>False</td>\n",
       "      <td>0-15 Min</td>\n",
       "      <td>False</td>\n",
       "      <td>Zone X4</td>\n",
       "      <td>8</td>\n",
       "    </tr>\n",
       "    <tr>\n",
       "      <th>2005-01-23 23:15:00</th>\n",
       "      <td>M</td>\n",
       "      <td>White</td>\n",
       "      <td>Speeding</td>\n",
       "      <td>Speeding</td>\n",
       "      <td>False</td>\n",
       "      <td>NaN</td>\n",
       "      <td>Citation</td>\n",
       "      <td>False</td>\n",
       "      <td>0-15 Min</td>\n",
       "      <td>False</td>\n",
       "      <td>Zone K3</td>\n",
       "      <td>8</td>\n",
       "    </tr>\n",
       "    <tr>\n",
       "      <th>2005-02-17 04:15:00</th>\n",
       "      <td>M</td>\n",
       "      <td>White</td>\n",
       "      <td>Speeding</td>\n",
       "      <td>Speeding</td>\n",
       "      <td>False</td>\n",
       "      <td>NaN</td>\n",
       "      <td>Citation</td>\n",
       "      <td>False</td>\n",
       "      <td>0-15 Min</td>\n",
       "      <td>False</td>\n",
       "      <td>Zone X4</td>\n",
       "      <td>8</td>\n",
       "    </tr>\n",
       "    <tr>\n",
       "      <th>2005-02-20 17:15:00</th>\n",
       "      <td>M</td>\n",
       "      <td>White</td>\n",
       "      <td>Call for Service</td>\n",
       "      <td>Other</td>\n",
       "      <td>False</td>\n",
       "      <td>NaN</td>\n",
       "      <td>Arrest Driver</td>\n",
       "      <td>True</td>\n",
       "      <td>16-30 Min</td>\n",
       "      <td>False</td>\n",
       "      <td>Zone X1</td>\n",
       "      <td>22</td>\n",
       "    </tr>\n",
       "    <tr>\n",
       "      <th>2005-02-24 01:20:00</th>\n",
       "      <td>F</td>\n",
       "      <td>White</td>\n",
       "      <td>Speeding</td>\n",
       "      <td>Speeding</td>\n",
       "      <td>False</td>\n",
       "      <td>NaN</td>\n",
       "      <td>Citation</td>\n",
       "      <td>False</td>\n",
       "      <td>0-15 Min</td>\n",
       "      <td>False</td>\n",
       "      <td>Zone X3</td>\n",
       "      <td>8</td>\n",
       "    </tr>\n",
       "  </tbody>\n",
       "</table>\n",
       "</div>"
      ],
      "text/plain": [
       "                    driver_gender driver_race                   violation_raw  \\\n",
       "stop_datetime                                                                   \n",
       "2005-01-04 12:55:00             M       White  Equipment/Inspection Violation   \n",
       "2005-01-23 23:15:00             M       White                        Speeding   \n",
       "2005-02-17 04:15:00             M       White                        Speeding   \n",
       "2005-02-20 17:15:00             M       White                Call for Service   \n",
       "2005-02-24 01:20:00             F       White                        Speeding   \n",
       "\n",
       "                     violation  search_conducted search_type   stop_outcome  \\\n",
       "stop_datetime                                                                 \n",
       "2005-01-04 12:55:00  Equipment             False         NaN       Citation   \n",
       "2005-01-23 23:15:00   Speeding             False         NaN       Citation   \n",
       "2005-02-17 04:15:00   Speeding             False         NaN       Citation   \n",
       "2005-02-20 17:15:00      Other             False         NaN  Arrest Driver   \n",
       "2005-02-24 01:20:00   Speeding             False         NaN       Citation   \n",
       "\n",
       "                     is_arrested stop_duration  drugs_related_stop district  \\\n",
       "stop_datetime                                                                 \n",
       "2005-01-04 12:55:00        False      0-15 Min               False  Zone X4   \n",
       "2005-01-23 23:15:00        False      0-15 Min               False  Zone K3   \n",
       "2005-02-17 04:15:00        False      0-15 Min               False  Zone X4   \n",
       "2005-02-20 17:15:00         True     16-30 Min               False  Zone X1   \n",
       "2005-02-24 01:20:00        False      0-15 Min               False  Zone X3   \n",
       "\n",
       "                     stopDuration  \n",
       "stop_datetime                      \n",
       "2005-01-04 12:55:00             8  \n",
       "2005-01-23 23:15:00             8  \n",
       "2005-02-17 04:15:00             8  \n",
       "2005-02-20 17:15:00            22  \n",
       "2005-02-24 01:20:00             8  "
      ]
     },
     "execution_count": 66,
     "metadata": {},
     "output_type": "execute_result"
    }
   ],
   "source": [
    "df.head()"
   ]
  },
  {
   "cell_type": "code",
   "execution_count": 67,
   "id": "04940b0a",
   "metadata": {},
   "outputs": [
    {
     "data": {
      "text/plain": [
       "45     3219\n",
       "22    13740\n",
       "8     69577\n",
       "Name: stopDuration, dtype: int64"
      ]
     },
     "execution_count": 67,
     "metadata": {},
     "output_type": "execute_result"
    }
   ],
   "source": [
    "# stop duration counts\n",
    "pre_stopD = df['stopDuration'].value_counts().sort_values(ascending = True)\n",
    "pre_stopD"
   ]
  },
  {
   "cell_type": "code",
   "execution_count": 68,
   "id": "a0892795",
   "metadata": {},
   "outputs": [
    {
     "data": {
      "text/plain": [
       "<AxesSubplot:>"
      ]
     },
     "execution_count": 68,
     "metadata": {},
     "output_type": "execute_result"
    },
    {
     "data": {
      "image/png": "[encoded data removed]",
      "text/plain": [
       "<Figure size 576x288 with 1 Axes>"
      ]
     },
     "metadata": {
      "needs_background": "light"
     },
     "output_type": "display_data"
    }
   ],
   "source": [
    "plt.figure(figsize = (8, 4))\n",
    "pre_stopD.plot(kind = 'barh')"
   ]
  },
  {
   "cell_type": "markdown",
   "id": "7122d6ff",
   "metadata": {},
   "source": [
    "### The prevalent stop duration is 0 - 15 Mins"
   ]
  },
  {
   "cell_type": "code",
   "execution_count": 69,
   "id": "2d2faa33",
   "metadata": {},
   "outputs": [
    {
     "data": {
      "text/plain": [
       "stopDuration\n",
       "8      950\n",
       "22    1286\n",
       "45     842\n",
       "Name: is_arrested, dtype: int64"
      ]
     },
     "execution_count": 69,
     "metadata": {},
     "output_type": "execute_result"
    }
   ],
   "source": [
    "# stop duration and getting arrested\n",
    "arrest_stopD = df.groupby('stopDuration').is_arrested.sum() \n",
    "arrest_stopD"
   ]
  },
  {
   "cell_type": "code",
   "execution_count": 70,
   "id": "67ca1830",
   "metadata": {},
   "outputs": [
    {
     "data": {
      "text/plain": [
       "<AxesSubplot:xlabel='stopDuration'>"
      ]
     },
     "execution_count": 70,
     "metadata": {},
     "output_type": "execute_result"
    },
    {
     "data": {
      "image/png": "[encoded data removed]",
      "text/plain": [
       "<Figure size 576x288 with 1 Axes>"
      ]
     },
     "metadata": {
      "needs_background": "light"
     },
     "output_type": "display_data"
    }
   ],
   "source": [
    "plt.figure(figsize = (8, 4))\n",
    "arrest_stopD.plot(kind = 'bar')"
   ]
  },
  {
   "cell_type": "markdown",
   "id": "4b6f4c6a",
   "metadata": {},
   "source": [
    "### People who get stopped for 15 - 30 Mins are likely to get arrested."
   ]
  },
  {
   "cell_type": "code",
   "execution_count": 71,
   "id": "b8b32b9f",
   "metadata": {},
   "outputs": [
    {
     "data": {
      "text/html": [
       "<div>\n",
       "<style scoped>\n",
       "    .dataframe tbody tr th:only-of-type {\n",
       "        vertical-align: middle;\n",
       "    }\n",
       "\n",
       "    .dataframe tbody tr th {\n",
       "        vertical-align: top;\n",
       "    }\n",
       "\n",
       "    .dataframe thead th {\n",
       "        text-align: right;\n",
       "    }\n",
       "</style>\n",
       "<table border=\"1\" class=\"dataframe\">\n",
       "  <thead>\n",
       "    <tr style=\"text-align: right;\">\n",
       "      <th>stopDuration</th>\n",
       "      <th>8</th>\n",
       "      <th>22</th>\n",
       "      <th>45</th>\n",
       "    </tr>\n",
       "    <tr>\n",
       "      <th>driver_gender</th>\n",
       "      <th></th>\n",
       "      <th></th>\n",
       "      <th></th>\n",
       "    </tr>\n",
       "  </thead>\n",
       "  <tbody>\n",
       "    <tr>\n",
       "      <th>F</th>\n",
       "      <td>0.230020</td>\n",
       "      <td>0.039648</td>\n",
       "      <td>0.005061</td>\n",
       "    </tr>\n",
       "    <tr>\n",
       "      <th>M</th>\n",
       "      <td>0.574004</td>\n",
       "      <td>0.119130</td>\n",
       "      <td>0.032137</td>\n",
       "    </tr>\n",
       "  </tbody>\n",
       "</table>\n",
       "</div>"
      ],
      "text/plain": [
       "stopDuration         8         22        45\n",
       "driver_gender                              \n",
       "F              0.230020  0.039648  0.005061\n",
       "M              0.574004  0.119130  0.032137"
      ]
     },
     "execution_count": 71,
     "metadata": {},
     "output_type": "execute_result"
    }
   ],
   "source": [
    "# gender vs stop duration\n",
    "pd.crosstab(df.driver_gender, df.stopDuration, normalize = True)"
   ]
  },
  {
   "cell_type": "markdown",
   "id": "4fc20532",
   "metadata": {},
   "source": [
    "### More Male suffer longer stop duration compared to female"
   ]
  },
  {
   "cell_type": "code",
   "execution_count": 72,
   "id": "16e25fea",
   "metadata": {},
   "outputs": [
    {
     "data": {
      "text/html": [
       "<div>\n",
       "<style scoped>\n",
       "    .dataframe tbody tr th:only-of-type {\n",
       "        vertical-align: middle;\n",
       "    }\n",
       "\n",
       "    .dataframe tbody tr th {\n",
       "        vertical-align: top;\n",
       "    }\n",
       "\n",
       "    .dataframe thead th {\n",
       "        text-align: right;\n",
       "    }\n",
       "</style>\n",
       "<table border=\"1\" class=\"dataframe\">\n",
       "  <thead>\n",
       "    <tr style=\"text-align: right;\">\n",
       "      <th>stopDuration</th>\n",
       "      <th>8</th>\n",
       "      <th>22</th>\n",
       "      <th>45</th>\n",
       "    </tr>\n",
       "    <tr>\n",
       "      <th>driver_race</th>\n",
       "      <th></th>\n",
       "      <th></th>\n",
       "      <th></th>\n",
       "    </tr>\n",
       "  </thead>\n",
       "  <tbody>\n",
       "    <tr>\n",
       "      <th>Asian</th>\n",
       "      <td>0.835496</td>\n",
       "      <td>0.140226</td>\n",
       "      <td>0.024278</td>\n",
       "    </tr>\n",
       "    <tr>\n",
       "      <th>Black</th>\n",
       "      <td>0.773382</td>\n",
       "      <td>0.173057</td>\n",
       "      <td>0.053561</td>\n",
       "    </tr>\n",
       "    <tr>\n",
       "      <th>Hispanic</th>\n",
       "      <td>0.784517</td>\n",
       "      <td>0.164593</td>\n",
       "      <td>0.050889</td>\n",
       "    </tr>\n",
       "    <tr>\n",
       "      <th>Other</th>\n",
       "      <td>0.871698</td>\n",
       "      <td>0.109434</td>\n",
       "      <td>0.018868</td>\n",
       "    </tr>\n",
       "    <tr>\n",
       "      <th>White</th>\n",
       "      <td>0.811670</td>\n",
       "      <td>0.155956</td>\n",
       "      <td>0.032374</td>\n",
       "    </tr>\n",
       "  </tbody>\n",
       "</table>\n",
       "</div>"
      ],
      "text/plain": [
       "stopDuration        8         22        45\n",
       "driver_race                               \n",
       "Asian         0.835496  0.140226  0.024278\n",
       "Black         0.773382  0.173057  0.053561\n",
       "Hispanic      0.784517  0.164593  0.050889\n",
       "Other         0.871698  0.109434  0.018868\n",
       "White         0.811670  0.155956  0.032374"
      ]
     },
     "execution_count": 72,
     "metadata": {},
     "output_type": "execute_result"
    }
   ],
   "source": [
    "pd.crosstab(df.driver_race, df.stopDuration, normalize = 'index')"
   ]
  },
  {
   "cell_type": "markdown",
   "id": "e8c715a4",
   "metadata": {},
   "source": [
    "### Blacks and Hispanics suffered longer duration stop compared to other race"
   ]
  },
  {
   "cell_type": "code",
   "execution_count": 73,
   "id": "b0a09ada",
   "metadata": {},
   "outputs": [
    {
     "data": {
      "text/html": [
       "<div>\n",
       "<style scoped>\n",
       "    .dataframe tbody tr th:only-of-type {\n",
       "        vertical-align: middle;\n",
       "    }\n",
       "\n",
       "    .dataframe tbody tr th {\n",
       "        vertical-align: top;\n",
       "    }\n",
       "\n",
       "    .dataframe thead th {\n",
       "        text-align: right;\n",
       "    }\n",
       "</style>\n",
       "<table border=\"1\" class=\"dataframe\">\n",
       "  <thead>\n",
       "    <tr style=\"text-align: right;\">\n",
       "      <th>stopDuration</th>\n",
       "      <th>8</th>\n",
       "      <th>22</th>\n",
       "      <th>45</th>\n",
       "    </tr>\n",
       "    <tr>\n",
       "      <th>violation</th>\n",
       "      <th></th>\n",
       "      <th></th>\n",
       "      <th></th>\n",
       "    </tr>\n",
       "  </thead>\n",
       "  <tbody>\n",
       "    <tr>\n",
       "      <th>Equipment</th>\n",
       "      <td>9087</td>\n",
       "      <td>1374</td>\n",
       "      <td>460</td>\n",
       "    </tr>\n",
       "    <tr>\n",
       "      <th>Moving violation</th>\n",
       "      <td>11799</td>\n",
       "      <td>3132</td>\n",
       "      <td>1293</td>\n",
       "    </tr>\n",
       "    <tr>\n",
       "      <th>Other</th>\n",
       "      <td>2551</td>\n",
       "      <td>1227</td>\n",
       "      <td>631</td>\n",
       "    </tr>\n",
       "    <tr>\n",
       "      <th>Registration/plates</th>\n",
       "      <td>2627</td>\n",
       "      <td>844</td>\n",
       "      <td>232</td>\n",
       "    </tr>\n",
       "    <tr>\n",
       "      <th>Seat belt</th>\n",
       "      <td>2579</td>\n",
       "      <td>250</td>\n",
       "      <td>27</td>\n",
       "    </tr>\n",
       "    <tr>\n",
       "      <th>Speeding</th>\n",
       "      <td>40934</td>\n",
       "      <td>6913</td>\n",
       "      <td>576</td>\n",
       "    </tr>\n",
       "  </tbody>\n",
       "</table>\n",
       "</div>"
      ],
      "text/plain": [
       "stopDuration            8     22    45\n",
       "violation                             \n",
       "Equipment             9087  1374   460\n",
       "Moving violation     11799  3132  1293\n",
       "Other                 2551  1227   631\n",
       "Registration/plates   2627   844   232\n",
       "Seat belt             2579   250    27\n",
       "Speeding             40934  6913   576"
      ]
     },
     "execution_count": 73,
     "metadata": {},
     "output_type": "execute_result"
    }
   ],
   "source": [
    "pd.crosstab(df.violation, df.stopDuration)"
   ]
  },
  {
   "cell_type": "markdown",
   "id": "e01a8804",
   "metadata": {},
   "source": [
    "### Moving violation offenders suffered more 30+ Mins duration stop compared to other offenders"
   ]
  },
  {
   "cell_type": "code",
   "execution_count": 74,
   "id": "8e57a0d7",
   "metadata": {},
   "outputs": [
    {
     "data": {
      "text/html": [
       "<div>\n",
       "<style scoped>\n",
       "    .dataframe tbody tr th:only-of-type {\n",
       "        vertical-align: middle;\n",
       "    }\n",
       "\n",
       "    .dataframe tbody tr th {\n",
       "        vertical-align: top;\n",
       "    }\n",
       "\n",
       "    .dataframe thead th {\n",
       "        text-align: right;\n",
       "    }\n",
       "</style>\n",
       "<table border=\"1\" class=\"dataframe\">\n",
       "  <thead>\n",
       "    <tr style=\"text-align: right;\">\n",
       "      <th></th>\n",
       "      <th>driver_gender</th>\n",
       "      <th>driver_race</th>\n",
       "      <th>violation_raw</th>\n",
       "      <th>violation</th>\n",
       "      <th>search_conducted</th>\n",
       "      <th>search_type</th>\n",
       "      <th>stop_outcome</th>\n",
       "      <th>is_arrested</th>\n",
       "      <th>stop_duration</th>\n",
       "      <th>drugs_related_stop</th>\n",
       "      <th>district</th>\n",
       "      <th>stopDuration</th>\n",
       "    </tr>\n",
       "    <tr>\n",
       "      <th>stop_datetime</th>\n",
       "      <th></th>\n",
       "      <th></th>\n",
       "      <th></th>\n",
       "      <th></th>\n",
       "      <th></th>\n",
       "      <th></th>\n",
       "      <th></th>\n",
       "      <th></th>\n",
       "      <th></th>\n",
       "      <th></th>\n",
       "      <th></th>\n",
       "      <th></th>\n",
       "    </tr>\n",
       "  </thead>\n",
       "  <tbody>\n",
       "    <tr>\n",
       "      <th>2005-01-04 12:55:00</th>\n",
       "      <td>M</td>\n",
       "      <td>White</td>\n",
       "      <td>Equipment/Inspection Violation</td>\n",
       "      <td>Equipment</td>\n",
       "      <td>False</td>\n",
       "      <td>NaN</td>\n",
       "      <td>Citation</td>\n",
       "      <td>False</td>\n",
       "      <td>0-15 Min</td>\n",
       "      <td>False</td>\n",
       "      <td>Zone X4</td>\n",
       "      <td>8</td>\n",
       "    </tr>\n",
       "    <tr>\n",
       "      <th>2005-01-23 23:15:00</th>\n",
       "      <td>M</td>\n",
       "      <td>White</td>\n",
       "      <td>Speeding</td>\n",
       "      <td>Speeding</td>\n",
       "      <td>False</td>\n",
       "      <td>NaN</td>\n",
       "      <td>Citation</td>\n",
       "      <td>False</td>\n",
       "      <td>0-15 Min</td>\n",
       "      <td>False</td>\n",
       "      <td>Zone K3</td>\n",
       "      <td>8</td>\n",
       "    </tr>\n",
       "    <tr>\n",
       "      <th>2005-02-17 04:15:00</th>\n",
       "      <td>M</td>\n",
       "      <td>White</td>\n",
       "      <td>Speeding</td>\n",
       "      <td>Speeding</td>\n",
       "      <td>False</td>\n",
       "      <td>NaN</td>\n",
       "      <td>Citation</td>\n",
       "      <td>False</td>\n",
       "      <td>0-15 Min</td>\n",
       "      <td>False</td>\n",
       "      <td>Zone X4</td>\n",
       "      <td>8</td>\n",
       "    </tr>\n",
       "    <tr>\n",
       "      <th>2005-02-20 17:15:00</th>\n",
       "      <td>M</td>\n",
       "      <td>White</td>\n",
       "      <td>Call for Service</td>\n",
       "      <td>Other</td>\n",
       "      <td>False</td>\n",
       "      <td>NaN</td>\n",
       "      <td>Arrest Driver</td>\n",
       "      <td>True</td>\n",
       "      <td>16-30 Min</td>\n",
       "      <td>False</td>\n",
       "      <td>Zone X1</td>\n",
       "      <td>22</td>\n",
       "    </tr>\n",
       "    <tr>\n",
       "      <th>2005-02-24 01:20:00</th>\n",
       "      <td>F</td>\n",
       "      <td>White</td>\n",
       "      <td>Speeding</td>\n",
       "      <td>Speeding</td>\n",
       "      <td>False</td>\n",
       "      <td>NaN</td>\n",
       "      <td>Citation</td>\n",
       "      <td>False</td>\n",
       "      <td>0-15 Min</td>\n",
       "      <td>False</td>\n",
       "      <td>Zone X3</td>\n",
       "      <td>8</td>\n",
       "    </tr>\n",
       "  </tbody>\n",
       "</table>\n",
       "</div>"
      ],
      "text/plain": [
       "                    driver_gender driver_race                   violation_raw  \\\n",
       "stop_datetime                                                                   \n",
       "2005-01-04 12:55:00             M       White  Equipment/Inspection Violation   \n",
       "2005-01-23 23:15:00             M       White                        Speeding   \n",
       "2005-02-17 04:15:00             M       White                        Speeding   \n",
       "2005-02-20 17:15:00             M       White                Call for Service   \n",
       "2005-02-24 01:20:00             F       White                        Speeding   \n",
       "\n",
       "                     violation  search_conducted search_type   stop_outcome  \\\n",
       "stop_datetime                                                                 \n",
       "2005-01-04 12:55:00  Equipment             False         NaN       Citation   \n",
       "2005-01-23 23:15:00   Speeding             False         NaN       Citation   \n",
       "2005-02-17 04:15:00   Speeding             False         NaN       Citation   \n",
       "2005-02-20 17:15:00      Other             False         NaN  Arrest Driver   \n",
       "2005-02-24 01:20:00   Speeding             False         NaN       Citation   \n",
       "\n",
       "                     is_arrested stop_duration  drugs_related_stop district  \\\n",
       "stop_datetime                                                                 \n",
       "2005-01-04 12:55:00        False      0-15 Min               False  Zone X4   \n",
       "2005-01-23 23:15:00        False      0-15 Min               False  Zone K3   \n",
       "2005-02-17 04:15:00        False      0-15 Min               False  Zone X4   \n",
       "2005-02-20 17:15:00         True     16-30 Min               False  Zone X1   \n",
       "2005-02-24 01:20:00        False      0-15 Min               False  Zone X3   \n",
       "\n",
       "                     stopDuration  \n",
       "stop_datetime                      \n",
       "2005-01-04 12:55:00             8  \n",
       "2005-01-23 23:15:00             8  \n",
       "2005-02-17 04:15:00             8  \n",
       "2005-02-20 17:15:00            22  \n",
       "2005-02-24 01:20:00             8  "
      ]
     },
     "execution_count": 74,
     "metadata": {},
     "output_type": "execute_result"
    }
   ],
   "source": [
    "df.head()"
   ]
  },
  {
   "cell_type": "code",
   "execution_count": 75,
   "id": "7f5c0f5f",
   "metadata": {},
   "outputs": [],
   "source": [
    "df.drop('stop_duration', axis = 'columns', inplace = True)"
   ]
  },
  {
   "cell_type": "code",
   "execution_count": 76,
   "id": "6af5668c",
   "metadata": {},
   "outputs": [],
   "source": [
    "df.to_csv('Desktop/Police_cleaned.csv')"
   ]
  }
 ],
 "metadata": {
  "kernelspec": {
   "display_name": "Python 3",
   "language": "python",
   "name": "python3"
  },
  "language_info": {
   "codemirror_mode": {
    "name": "ipython",
    "version": 3
   },
   "file_extension": ".py",
   "mimetype": "text/x-python",
   "name": "python",
   "nbconvert_exporter": "python",
   "pygments_lexer": "ipython3",
   "version": "3.8.8"
  }
 },
 "nbformat": 4,
 "nbformat_minor": 5
}
